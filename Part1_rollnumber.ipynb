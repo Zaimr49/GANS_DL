{
  "cells": [
    {
      "cell_type": "markdown",
      "metadata": {
        "id": "aZ998sgcaAlB"
      },
      "source": [
        "# PA4.1 GANs and Latent space interpolation (35 marks)\n",
        "\n",
        " This part of the assignment involves implementing a Generative Adversarial Network (GAN) to work with the MNIST dataset, which is readily available in the torchvision package. You'll be tasked with training your GAN to generate images that resemble the handwritten digits from MNIST.\n",
        "\n",
        "After your GAN is trained and able to generate images, the next step is to explore latent space interpolation between two images. This means you'll learn how to transition smoothly from one digit to another by navigating through the GAN's latent space, a technique that demonstrates the model's ability to understand and manipulate the underlying features of the digits.\n",
        "\n",
        "Once thats done you will be asked to generate a few images of your own, and then do some mathematical operations with them in the latent space and see what sort of output you can come up with. sounds simple enough right?\n",
        "\n",
        "[All code blocks should already have been run and the outputs should be visible in order to be graded]"
      ]
    },
    {
      "cell_type": "markdown",
      "metadata": {},
      "source": [
        "Roll number: 25100261"
      ]
    },
    {
      "cell_type": "markdown",
      "metadata": {
        "id": "oqx5Zdf8aAlC"
      },
      "source": [
        "# Imports"
      ]
    },
    {
      "cell_type": "markdown",
      "metadata": {},
      "source": [
        "Do not include extra imports, you should be able to complete this assignment with the following imports only."
      ]
    },
    {
      "cell_type": "code",
      "execution_count": 1,
      "metadata": {
        "id": "t83_7r64W7eA"
      },
      "outputs": [
        {
          "name": "stderr",
          "output_type": "stream",
          "text": [
            "/Users/zaeemr49/Library/Python/3.9/lib/python/site-packages/urllib3/__init__.py:34: NotOpenSSLWarning: urllib3 v2 only supports OpenSSL 1.1.1+, currently the 'ssl' module is compiled with 'LibreSSL 2.8.3'. See: https://github.com/urllib3/urllib3/issues/3020\n",
            "  warnings.warn(\n"
          ]
        }
      ],
      "source": [
        "import torch\n",
        "import torch.nn as nn\n",
        "import torch.optim as optim\n",
        "from torchvision import datasets, transforms\n",
        "from torch.utils.data import DataLoader\n",
        "import matplotlib.pyplot as plt\n",
        "import numpy as np\n",
        "\n",
        "transform = transforms.Compose([\n",
        "    transforms.ToTensor(),\n",
        "    transforms.Normalize((0.5,), (0.5,))  # Normalize with mean=0.5, std=0.5\n",
        "])\n"
      ]
    },
    {
      "cell_type": "markdown",
      "metadata": {
        "id": "-Q-yPIspaAlE"
      },
      "source": [
        "# MNIST dataset loading (3 marks)"
      ]
    },
    {
      "cell_type": "markdown",
      "metadata": {},
      "source": [
        "Lets start by actually loading the mnist dataset and visualizing some of the images, dont foget to transform the images to the right size and tensor :) and normalize them. "
      ]
    },
    {
      "cell_type": "code",
      "execution_count": 2,
      "metadata": {
        "colab": {
          "base_uri": "https://localhost:8080/"
        },
        "id": "qg04dFSwW_kh",
        "outputId": "4afb2240-8fa9-4659-b5c8-656894777ab4"
      },
      "outputs": [],
      "source": [
        "#make sue of the Dataloaeer to load the data\n",
        "mnist_train = datasets.MNIST(root=\"./data\", train=True, download=True, transform=transform)\n",
        "batch_size = 64  # You can adjust the batch size as needed\n",
        "train_loader = DataLoader(mnist_train, batch_size=batch_size, shuffle=True)"
      ]
    },
    {
      "cell_type": "code",
      "execution_count": 3,
      "metadata": {},
      "outputs": [
        {
          "data": {
            "image/png": "[encoded data removed]",
            "text/plain": [
              "<Figure size 640x480 with 1 Axes>"
            ]
          },
          "metadata": {},
          "output_type": "display_data"
        },
        {
          "name": "stdout",
          "output_type": "stream",
          "text": [
            "1 1 6 5\n"
          ]
        }
      ],
      "source": [
        "import torchvision.utils as utils\n",
        "# Visualize the MNIST Dataset\n",
        "def imshow(img):\n",
        "    img = img / 2 + 0.5     # unnormalize\n",
        "    npimg = img.numpy()\n",
        "    plt.imshow(np.transpose(npimg, (1, 2, 0)))\n",
        "    plt.show()\n",
        "\n",
        "# Get some random training images\n",
        "dataiter = iter(train_loader)\n",
        "images, labels = next(dataiter)\n",
        "\n",
        "# Show images\n",
        "imshow(utils.make_grid(images[:4]))\n",
        "# Print labels\n",
        "print(' '.join(f'{labels[j]}' for j in range(4)))\n"
      ]
    },
    {
      "cell_type": "markdown",
      "metadata": {
        "id": "oUj6dfEZaAlF"
      },
      "source": [
        "# Generator and Discriminator (10 marks)"
      ]
    },
    {
      "cell_type": "markdown",
      "metadata": {},
      "source": [
        "Next lets set up the main charecters of our GAN, the generator and the discriminator. Starting of with the generator, feel free to use, whatever sort of architecture you feel suits you, just make sure to use the right activation functions and normalization layers, and that both the generator and the discriminator are able to work with the right size of images.\n",
        "\n",
        "Feel free to reshape the tensor before passing it through the model, u may explicitly need to do this in atleast one of the models. "
      ]
    },
    {
      "cell_type": "code",
      "execution_count": 4,
      "metadata": {
        "id": "-bO03K8iXFTi"
      },
      "outputs": [],
      "source": [
        "# # Code the Generator Model here\n",
        "# class Generator(nn.Module):\n",
        "#     def __init__(self, latent_dim, img_shape):\n",
        "#         super(Generator, self).__init__()\n",
        "\n",
        "#         self.model = nn.Sequential(\n",
        "#             nn.Linear(latent_dim, 128),\n",
        "#             nn.BatchNorm1d(128),\n",
        "#             nn.ReLU(),\n",
        "#             nn.Linear(128, 256),\n",
        "#             nn.BatchNorm1d(256),\n",
        "#             nn.ReLU(),\n",
        "#             nn.Linear(256, 512),\n",
        "#             nn.BatchNorm1d(512),\n",
        "#             nn.ReLU(),\n",
        "#             nn.Linear(512, img_shape),\n",
        "#             nn.Tanh()  # Tanh activation function for generating images in [-1, 1]\n",
        "#         )\n",
        "\n",
        "#     def forward(self, x):\n",
        "#         return self.model(x)\n",
        "\n",
        "class Generator(nn.Module):\n",
        "    def __init__(self, latent_dim, img_shape):\n",
        "        super(Generator, self).__init__()\n",
        "\n",
        "        self.model = nn.Sequential(\n",
        "            nn.Linear(latent_dim, 256),\n",
        "            nn.BatchNorm1d(256),\n",
        "            nn.LeakyReLU(0.2),\n",
        "            nn.Linear(256, 512),\n",
        "            nn.BatchNorm1d(512),\n",
        "            nn.LeakyReLU(0.2),\n",
        "            nn.Linear(512, 1024),\n",
        "            nn.BatchNorm1d(1024),\n",
        "            nn.LeakyReLU(0.2),\n",
        "            nn.Linear(1024, img_shape),\n",
        "            nn.Tanh()\n",
        "        )\n",
        "\n",
        "    def forward(self, x):\n",
        "        return self.model(x)"
      ]
    },
    {
      "cell_type": "code",
      "execution_count": 5,
      "metadata": {
        "id": "UgAMha2cXHQ1"
      },
      "outputs": [],
      "source": [
        "# # Code the Discriminator Model here\n",
        "# class Discriminator(nn.Module):\n",
        "#     def __init__(self, img_shape):\n",
        "#         super(Discriminator, self).__init__()\n",
        "\n",
        "#         self.model = nn.Sequential(\n",
        "#             nn.Linear(img_shape, 512),\n",
        "#             nn.LeakyReLU(0.2),\n",
        "#             nn.Linear(512, 256),\n",
        "#             nn.LeakyReLU(0.2),\n",
        "#             nn.Linear(256, 1),\n",
        "#             nn.Sigmoid()  # Sigmoid activation function for binary classification\n",
        "#         )\n",
        "\n",
        "#     def forward(self, x):\n",
        "#         return self.model(x)\n",
        "class Discriminator(nn.Module):\n",
        "    def __init__(self, img_shape):\n",
        "        super(Discriminator, self).__init__()\n",
        "\n",
        "        self.model = nn.Sequential(\n",
        "            nn.Linear(img_shape, 512),\n",
        "            nn.LeakyReLU(0.2),\n",
        "            nn.Dropout(0.3),  # Adding dropout for regularization\n",
        "            nn.Linear(512, 256),\n",
        "            nn.BatchNorm1d(256),\n",
        "            nn.LeakyReLU(0.2),\n",
        "            nn.Linear(256, 128),\n",
        "            nn.BatchNorm1d(128),\n",
        "            nn.LeakyReLU(0.2),\n",
        "            nn.Linear(128, 1),\n",
        "            nn.Sigmoid()\n",
        "        )\n",
        "\n",
        "    def forward(self, x):\n",
        "        return self.model(x)"
      ]
    },
    {
      "cell_type": "code",
      "execution_count": 6,
      "metadata": {
        "id": "A-nszA7iXMX5"
      },
      "outputs": [],
      "source": [
        "latent_dim = 100  # Dimensionality of the latent space\n",
        "img_shape = 28*28  # Shape of the generated images (assuming MNIST-like images)\n",
        "\n",
        "# create instances of the Generator and Discriminator\n",
        "generator = Generator(latent_dim, img_shape)\n",
        "discriminator = Discriminator(img_shape)"
      ]
    },
    {
      "cell_type": "code",
      "execution_count": 7,
      "metadata": {},
      "outputs": [
        {
          "name": "stdout",
          "output_type": "stream",
          "text": [
            "Generator(\n",
            "  (model): Sequential(\n",
            "    (0): Linear(in_features=100, out_features=256, bias=True)\n",
            "    (1): BatchNorm1d(256, eps=1e-05, momentum=0.1, affine=True, track_running_stats=True)\n",
            "    (2): LeakyReLU(negative_slope=0.2)\n",
            "    (3): Linear(in_features=256, out_features=512, bias=True)\n",
            "    (4): BatchNorm1d(512, eps=1e-05, momentum=0.1, affine=True, track_running_stats=True)\n",
            "    (5): LeakyReLU(negative_slope=0.2)\n",
            "    (6): Linear(in_features=512, out_features=1024, bias=True)\n",
            "    (7): BatchNorm1d(1024, eps=1e-05, momentum=0.1, affine=True, track_running_stats=True)\n",
            "    (8): LeakyReLU(negative_slope=0.2)\n",
            "    (9): Linear(in_features=1024, out_features=784, bias=True)\n",
            "    (10): Tanh()\n",
            "  )\n",
            ")\n",
            "Discriminator(\n",
            "  (model): Sequential(\n",
            "    (0): Linear(in_features=784, out_features=512, bias=True)\n",
            "    (1): LeakyReLU(negative_slope=0.2)\n",
            "    (2): Dropout(p=0.3, inplace=False)\n",
            "    (3): Linear(in_features=512, out_features=256, bias=True)\n",
            "    (4): BatchNorm1d(256, eps=1e-05, momentum=0.1, affine=True, track_running_stats=True)\n",
            "    (5): LeakyReLU(negative_slope=0.2)\n",
            "    (6): Linear(in_features=256, out_features=128, bias=True)\n",
            "    (7): BatchNorm1d(128, eps=1e-05, momentum=0.1, affine=True, track_running_stats=True)\n",
            "    (8): LeakyReLU(negative_slope=0.2)\n",
            "    (9): Linear(in_features=128, out_features=1, bias=True)\n",
            "    (10): Sigmoid()\n",
            "  )\n",
            ")\n"
          ]
        }
      ],
      "source": [
        "# Print out the models for inspection\n",
        "print(generator)\n",
        "print(discriminator)"
      ]
    },
    {
      "cell_type": "markdown",
      "metadata": {
        "id": "bC01vCuNaAlG"
      },
      "source": [
        "# Loss and optimizers"
      ]
    },
    {
      "cell_type": "markdown",
      "metadata": {},
      "source": [
        "Just like that, were done with the models, now lets set up the loss function and the optimizers for both the models.\n",
        "For the the timme being do not change them, the given models are pretty standard, and conventional for image gen via GANs.\n",
        "\n",
        "Other parameters however, you can change, and experiment with, such as the Epochs for example, feel free to experiment with these, and see what works best for you."
      ]
    },
    {
      "cell_type": "code",
      "execution_count": 8,
      "metadata": {
        "id": "zgodGIc4XPRY"
      },
      "outputs": [],
      "source": [
        "# Loss and Optimizers\n",
        "criterion = nn.BCELoss()\n",
        "optimizer_g = optim.Adam(generator.parameters(), lr=0.0002)\n",
        "optimizer_d = optim.Adam(discriminator.parameters(), lr=0.0002)"
      ]
    },
    {
      "cell_type": "markdown",
      "metadata": {
        "id": "EpP_3JfBaAlG"
      },
      "source": [
        "# Training loop (5 marks)"
      ]
    },
    {
      "cell_type": "markdown",
      "metadata": {},
      "source": [
        "Now we have to load the data (preprocess it or do some image augmentation if you need) and train the model. \n",
        "\n",
        "Lets have brief look at how the loop for a vanilla GAN looks like, and then you can implement it yourself.\n",
        "\n",
        "Each epoch involves a couple of steps:\n",
        "1. Prep some data both fake and real\n",
        "2. Train the discriminator with some real data\n",
        "3. Train the discriminator with some fake data\n",
        "3. Train the generator\n",
        "\n",
        "The rest of its pretty similar to pytorch training loops, similar to the ones youve done in previous assingments."
      ]
    },
    {
      "cell_type": "code",
      "execution_count": 9,
      "metadata": {
        "colab": {
          "base_uri": "https://localhost:8080/"
        },
        "id": "VNkBGJnALBLV",
        "outputId": "188c9923-95e7-4611-f85a-9dc6a438c2c5"
      },
      "outputs": [
        {
          "name": "stdout",
          "output_type": "stream",
          "text": [
            "Epoch [0/50], Step [0/938], Discriminator Loss: 1.4282, Generator Loss: 0.6713\n",
            "Epoch [0/50], Step [100/938], Discriminator Loss: 1.3902, Generator Loss: 0.6919\n",
            "Epoch [0/50], Step [200/938], Discriminator Loss: 1.3395, Generator Loss: 0.7160\n",
            "Epoch [0/50], Step [300/938], Discriminator Loss: 1.2123, Generator Loss: 0.8025\n",
            "Epoch [0/50], Step [400/938], Discriminator Loss: 1.1320, Generator Loss: 0.8878\n",
            "Epoch [0/50], Step [500/938], Discriminator Loss: 1.1314, Generator Loss: 0.9889\n",
            "Epoch [0/50], Step [600/938], Discriminator Loss: 0.9638, Generator Loss: 1.0674\n",
            "Epoch [0/50], Step [700/938], Discriminator Loss: 0.7432, Generator Loss: 1.2517\n",
            "Epoch [0/50], Step [800/938], Discriminator Loss: 0.5846, Generator Loss: 1.3629\n",
            "Epoch [0/50], Step [900/938], Discriminator Loss: 0.6093, Generator Loss: 1.5719\n",
            "Epoch [1/50], Step [0/938], Discriminator Loss: 0.4348, Generator Loss: 1.5085\n",
            "Epoch [1/50], Step [100/938], Discriminator Loss: 0.7184, Generator Loss: 1.6841\n",
            "Epoch [1/50], Step [200/938], Discriminator Loss: 0.7239, Generator Loss: 1.7435\n",
            "Epoch [1/50], Step [300/938], Discriminator Loss: 0.3367, Generator Loss: 1.8254\n",
            "Epoch [1/50], Step [400/938], Discriminator Loss: 0.2784, Generator Loss: 2.1123\n",
            "Epoch [1/50], Step [500/938], Discriminator Loss: 0.5473, Generator Loss: 1.6467\n",
            "Epoch [1/50], Step [600/938], Discriminator Loss: 0.3882, Generator Loss: 2.1546\n",
            "Epoch [1/50], Step [700/938], Discriminator Loss: 0.2948, Generator Loss: 2.2125\n",
            "Epoch [1/50], Step [800/938], Discriminator Loss: 0.2644, Generator Loss: 2.2689\n",
            "Epoch [1/50], Step [900/938], Discriminator Loss: 0.2457, Generator Loss: 2.1500\n",
            "Epoch [2/50], Step [0/938], Discriminator Loss: 0.2071, Generator Loss: 2.5001\n",
            "Epoch [2/50], Step [100/938], Discriminator Loss: 0.3214, Generator Loss: 2.6126\n",
            "Epoch [2/50], Step [200/938], Discriminator Loss: 0.1597, Generator Loss: 2.6479\n",
            "Epoch [2/50], Step [300/938], Discriminator Loss: 0.2042, Generator Loss: 2.6973\n",
            "Epoch [2/50], Step [400/938], Discriminator Loss: 0.7425, Generator Loss: 2.5012\n",
            "Epoch [2/50], Step [500/938], Discriminator Loss: 0.3140, Generator Loss: 2.6164\n",
            "Epoch [2/50], Step [600/938], Discriminator Loss: 0.1069, Generator Loss: 2.9385\n",
            "Epoch [2/50], Step [700/938], Discriminator Loss: 0.1456, Generator Loss: 3.1305\n",
            "Epoch [2/50], Step [800/938], Discriminator Loss: 0.1040, Generator Loss: 3.2512\n",
            "Epoch [2/50], Step [900/938], Discriminator Loss: 0.1845, Generator Loss: 3.4256\n",
            "Epoch [3/50], Step [0/938], Discriminator Loss: 0.1489, Generator Loss: 2.9568\n",
            "Epoch [3/50], Step [100/938], Discriminator Loss: 0.1245, Generator Loss: 2.7843\n",
            "Epoch [3/50], Step [200/938], Discriminator Loss: 0.0984, Generator Loss: 3.3088\n",
            "Epoch [3/50], Step [300/938], Discriminator Loss: 0.1006, Generator Loss: 3.4053\n",
            "Epoch [3/50], Step [400/938], Discriminator Loss: 0.1157, Generator Loss: 3.7673\n",
            "Epoch [3/50], Step [500/938], Discriminator Loss: 0.0491, Generator Loss: 3.7715\n",
            "Epoch [3/50], Step [600/938], Discriminator Loss: 0.0469, Generator Loss: 3.8146\n",
            "Epoch [3/50], Step [700/938], Discriminator Loss: 0.2175, Generator Loss: 2.2755\n",
            "Epoch [3/50], Step [800/938], Discriminator Loss: 0.1928, Generator Loss: 3.5311\n",
            "Epoch [3/50], Step [900/938], Discriminator Loss: 0.1037, Generator Loss: 3.3447\n",
            "Epoch [4/50], Step [0/938], Discriminator Loss: 0.0687, Generator Loss: 3.4459\n",
            "Epoch [4/50], Step [100/938], Discriminator Loss: 0.0382, Generator Loss: 3.9687\n",
            "Epoch [4/50], Step [200/938], Discriminator Loss: 0.0346, Generator Loss: 3.9357\n",
            "Epoch [4/50], Step [300/938], Discriminator Loss: 0.0419, Generator Loss: 4.1741\n",
            "Epoch [4/50], Step [400/938], Discriminator Loss: 0.0242, Generator Loss: 4.3794\n",
            "Epoch [4/50], Step [500/938], Discriminator Loss: 0.0864, Generator Loss: 3.4475\n",
            "Epoch [4/50], Step [600/938], Discriminator Loss: 0.0373, Generator Loss: 4.1843\n",
            "Epoch [4/50], Step [700/938], Discriminator Loss: 0.0917, Generator Loss: 4.1723\n",
            "Epoch [4/50], Step [800/938], Discriminator Loss: 0.2714, Generator Loss: 3.7068\n",
            "Epoch [4/50], Step [900/938], Discriminator Loss: 0.0860, Generator Loss: 4.0031\n",
            "Epoch [5/50], Step [0/938], Discriminator Loss: 0.1376, Generator Loss: 4.3203\n",
            "Epoch [5/50], Step [100/938], Discriminator Loss: 0.1080, Generator Loss: 4.0921\n",
            "Epoch [5/50], Step [200/938], Discriminator Loss: 0.0399, Generator Loss: 4.5898\n",
            "Epoch [5/50], Step [300/938], Discriminator Loss: 0.0402, Generator Loss: 3.9168\n",
            "Epoch [5/50], Step [400/938], Discriminator Loss: 0.0376, Generator Loss: 4.3829\n",
            "Epoch [5/50], Step [500/938], Discriminator Loss: 0.0197, Generator Loss: 4.5130\n",
            "Epoch [5/50], Step [600/938], Discriminator Loss: 0.0173, Generator Loss: 4.5657\n",
            "Epoch [5/50], Step [700/938], Discriminator Loss: 0.0164, Generator Loss: 4.7713\n",
            "Epoch [5/50], Step [800/938], Discriminator Loss: 0.0330, Generator Loss: 4.6810\n",
            "Epoch [5/50], Step [900/938], Discriminator Loss: 0.0659, Generator Loss: 3.8834\n",
            "Epoch [6/50], Step [0/938], Discriminator Loss: 0.0799, Generator Loss: 3.4669\n",
            "Epoch [6/50], Step [100/938], Discriminator Loss: 0.0839, Generator Loss: 3.2139\n",
            "Epoch [6/50], Step [200/938], Discriminator Loss: 0.0905, Generator Loss: 4.6605\n",
            "Epoch [6/50], Step [300/938], Discriminator Loss: 0.0520, Generator Loss: 3.7288\n",
            "Epoch [6/50], Step [400/938], Discriminator Loss: 0.0486, Generator Loss: 4.5594\n",
            "Epoch [6/50], Step [500/938], Discriminator Loss: 0.0184, Generator Loss: 4.8740\n",
            "Epoch [6/50], Step [600/938], Discriminator Loss: 0.0182, Generator Loss: 5.0579\n",
            "Epoch [6/50], Step [700/938], Discriminator Loss: 0.0204, Generator Loss: 5.3633\n",
            "Epoch [6/50], Step [800/938], Discriminator Loss: 0.0147, Generator Loss: 5.2621\n",
            "Epoch [6/50], Step [900/938], Discriminator Loss: 0.0163, Generator Loss: 5.2650\n",
            "Epoch [7/50], Step [0/938], Discriminator Loss: 0.0334, Generator Loss: 5.3452\n",
            "Epoch [7/50], Step [100/938], Discriminator Loss: 0.0323, Generator Loss: 5.1527\n",
            "Epoch [7/50], Step [200/938], Discriminator Loss: 0.0116, Generator Loss: 5.4084\n",
            "Epoch [7/50], Step [300/938], Discriminator Loss: 0.0154, Generator Loss: 5.2242\n",
            "Epoch [7/50], Step [400/938], Discriminator Loss: 0.0544, Generator Loss: 4.2942\n",
            "Epoch [7/50], Step [500/938], Discriminator Loss: 0.0926, Generator Loss: 4.8842\n",
            "Epoch [7/50], Step [600/938], Discriminator Loss: 0.0227, Generator Loss: 5.5575\n",
            "Epoch [7/50], Step [700/938], Discriminator Loss: 0.0504, Generator Loss: 4.9200\n",
            "Epoch [7/50], Step [800/938], Discriminator Loss: 0.0375, Generator Loss: 5.1922\n",
            "Epoch [7/50], Step [900/938], Discriminator Loss: 0.0159, Generator Loss: 4.9027\n",
            "Epoch [8/50], Step [0/938], Discriminator Loss: 0.0186, Generator Loss: 4.4929\n",
            "Epoch [8/50], Step [100/938], Discriminator Loss: 0.0462, Generator Loss: 4.9433\n",
            "Epoch [8/50], Step [200/938], Discriminator Loss: 0.0550, Generator Loss: 5.3252\n",
            "Epoch [8/50], Step [300/938], Discriminator Loss: 0.0993, Generator Loss: 4.9875\n",
            "Epoch [8/50], Step [400/938], Discriminator Loss: 0.2025, Generator Loss: 4.3559\n",
            "Epoch [8/50], Step [500/938], Discriminator Loss: 0.0499, Generator Loss: 4.2471\n",
            "Epoch [8/50], Step [600/938], Discriminator Loss: 0.0176, Generator Loss: 5.3310\n",
            "Epoch [8/50], Step [700/938], Discriminator Loss: 0.0498, Generator Loss: 4.8411\n",
            "Epoch [8/50], Step [800/938], Discriminator Loss: 0.0685, Generator Loss: 5.5273\n",
            "Epoch [8/50], Step [900/938], Discriminator Loss: 0.0353, Generator Loss: 5.0273\n",
            "Epoch [9/50], Step [0/938], Discriminator Loss: 0.0401, Generator Loss: 5.1829\n",
            "Epoch [9/50], Step [100/938], Discriminator Loss: 0.0803, Generator Loss: 4.6493\n",
            "Epoch [9/50], Step [200/938], Discriminator Loss: 0.0340, Generator Loss: 5.2325\n",
            "Epoch [9/50], Step [300/938], Discriminator Loss: 0.0435, Generator Loss: 5.2792\n",
            "Epoch [9/50], Step [400/938], Discriminator Loss: 0.0459, Generator Loss: 4.3176\n",
            "Epoch [9/50], Step [500/938], Discriminator Loss: 0.1032, Generator Loss: 4.0885\n",
            "Epoch [9/50], Step [600/938], Discriminator Loss: 0.1160, Generator Loss: 3.5595\n",
            "Epoch [9/50], Step [700/938], Discriminator Loss: 0.1956, Generator Loss: 4.2017\n",
            "Epoch [9/50], Step [800/938], Discriminator Loss: 0.0495, Generator Loss: 4.9643\n",
            "Epoch [9/50], Step [900/938], Discriminator Loss: 0.0300, Generator Loss: 5.8134\n",
            "Epoch [10/50], Step [0/938], Discriminator Loss: 0.0635, Generator Loss: 4.6850\n",
            "Epoch [10/50], Step [100/938], Discriminator Loss: 0.0549, Generator Loss: 4.3682\n",
            "Epoch [10/50], Step [200/938], Discriminator Loss: 0.0713, Generator Loss: 4.1980\n",
            "Epoch [10/50], Step [300/938], Discriminator Loss: 0.0541, Generator Loss: 4.3353\n",
            "Epoch [10/50], Step [400/938], Discriminator Loss: 0.3589, Generator Loss: 4.1295\n",
            "Epoch [10/50], Step [500/938], Discriminator Loss: 0.1052, Generator Loss: 4.2512\n",
            "Epoch [10/50], Step [600/938], Discriminator Loss: 0.0857, Generator Loss: 4.0990\n",
            "Epoch [10/50], Step [700/938], Discriminator Loss: 0.0515, Generator Loss: 4.5121\n",
            "Epoch [10/50], Step [800/938], Discriminator Loss: 0.0976, Generator Loss: 4.2835\n",
            "Epoch [10/50], Step [900/938], Discriminator Loss: 0.1258, Generator Loss: 3.9447\n",
            "Epoch [11/50], Step [0/938], Discriminator Loss: 0.5835, Generator Loss: 3.9667\n",
            "Epoch [11/50], Step [100/938], Discriminator Loss: 0.0934, Generator Loss: 4.8136\n",
            "Epoch [11/50], Step [200/938], Discriminator Loss: 0.1545, Generator Loss: 5.0100\n",
            "Epoch [11/50], Step [300/938], Discriminator Loss: 0.9744, Generator Loss: 4.2999\n",
            "Epoch [11/50], Step [400/938], Discriminator Loss: 0.6225, Generator Loss: 3.5437\n",
            "Epoch [11/50], Step [500/938], Discriminator Loss: 0.1468, Generator Loss: 4.3056\n",
            "Epoch [11/50], Step [600/938], Discriminator Loss: 0.2898, Generator Loss: 2.2218\n",
            "Epoch [11/50], Step [700/938], Discriminator Loss: 0.1063, Generator Loss: 4.9554\n",
            "Epoch [11/50], Step [800/938], Discriminator Loss: 0.1560, Generator Loss: 3.1215\n",
            "Epoch [11/50], Step [900/938], Discriminator Loss: 0.6447, Generator Loss: 4.8831\n",
            "Epoch [12/50], Step [0/938], Discriminator Loss: 0.1782, Generator Loss: 4.6413\n",
            "Epoch [12/50], Step [100/938], Discriminator Loss: 0.1126, Generator Loss: 4.0213\n",
            "Epoch [12/50], Step [200/938], Discriminator Loss: 0.2171, Generator Loss: 4.2673\n",
            "Epoch [12/50], Step [300/938], Discriminator Loss: 0.4012, Generator Loss: 4.0952\n",
            "Epoch [12/50], Step [400/938], Discriminator Loss: 0.8511, Generator Loss: 4.7397\n",
            "Epoch [12/50], Step [500/938], Discriminator Loss: 0.3475, Generator Loss: 3.1070\n",
            "Epoch [12/50], Step [600/938], Discriminator Loss: 0.4212, Generator Loss: 3.2839\n",
            "Epoch [12/50], Step [700/938], Discriminator Loss: 0.2758, Generator Loss: 3.0601\n",
            "Epoch [12/50], Step [800/938], Discriminator Loss: 0.1919, Generator Loss: 3.6839\n",
            "Epoch [12/50], Step [900/938], Discriminator Loss: 0.2147, Generator Loss: 2.4291\n",
            "Epoch [13/50], Step [0/938], Discriminator Loss: 0.2082, Generator Loss: 3.6453\n",
            "Epoch [13/50], Step [100/938], Discriminator Loss: 0.2365, Generator Loss: 3.9368\n",
            "Epoch [13/50], Step [200/938], Discriminator Loss: 0.1901, Generator Loss: 4.2854\n",
            "Epoch [13/50], Step [300/938], Discriminator Loss: 0.6619, Generator Loss: 3.8605\n",
            "Epoch [13/50], Step [400/938], Discriminator Loss: 0.2228, Generator Loss: 2.4637\n",
            "Epoch [13/50], Step [500/938], Discriminator Loss: 0.3071, Generator Loss: 2.3055\n",
            "Epoch [13/50], Step [600/938], Discriminator Loss: 0.5008, Generator Loss: 4.6299\n",
            "Epoch [13/50], Step [700/938], Discriminator Loss: 0.1385, Generator Loss: 1.6244\n",
            "Epoch [13/50], Step [800/938], Discriminator Loss: 0.2143, Generator Loss: 4.0533\n",
            "Epoch [13/50], Step [900/938], Discriminator Loss: 0.5520, Generator Loss: 3.1762\n",
            "Epoch [14/50], Step [0/938], Discriminator Loss: 0.2978, Generator Loss: 2.4249\n",
            "Epoch [14/50], Step [100/938], Discriminator Loss: 0.2066, Generator Loss: 3.7351\n",
            "Epoch [14/50], Step [200/938], Discriminator Loss: 0.2907, Generator Loss: 2.5722\n",
            "Epoch [14/50], Step [300/938], Discriminator Loss: 0.4233, Generator Loss: 2.5406\n",
            "Epoch [14/50], Step [400/938], Discriminator Loss: 0.3055, Generator Loss: 4.3595\n",
            "Epoch [14/50], Step [500/938], Discriminator Loss: 0.4347, Generator Loss: 2.3227\n",
            "Epoch [14/50], Step [600/938], Discriminator Loss: 0.3336, Generator Loss: 3.1050\n",
            "Epoch [14/50], Step [700/938], Discriminator Loss: 0.8864, Generator Loss: 1.6956\n",
            "Epoch [14/50], Step [800/938], Discriminator Loss: 0.3120, Generator Loss: 3.7517\n",
            "Epoch [14/50], Step [900/938], Discriminator Loss: 0.1444, Generator Loss: 3.2785\n",
            "Epoch [15/50], Step [0/938], Discriminator Loss: 0.2249, Generator Loss: 2.0002\n",
            "Epoch [15/50], Step [100/938], Discriminator Loss: 0.2724, Generator Loss: 2.4233\n",
            "Epoch [15/50], Step [200/938], Discriminator Loss: 0.2762, Generator Loss: 4.5763\n",
            "Epoch [15/50], Step [300/938], Discriminator Loss: 0.6319, Generator Loss: 3.8406\n",
            "Epoch [15/50], Step [400/938], Discriminator Loss: 0.1351, Generator Loss: 3.8053\n",
            "Epoch [15/50], Step [500/938], Discriminator Loss: 0.3703, Generator Loss: 3.4579\n",
            "Epoch [15/50], Step [600/938], Discriminator Loss: 0.2165, Generator Loss: 2.5192\n",
            "Epoch [15/50], Step [700/938], Discriminator Loss: 0.2261, Generator Loss: 3.6466\n",
            "Epoch [15/50], Step [800/938], Discriminator Loss: 0.2407, Generator Loss: 3.7753\n",
            "Epoch [15/50], Step [900/938], Discriminator Loss: 0.0817, Generator Loss: 4.7276\n",
            "Epoch [16/50], Step [0/938], Discriminator Loss: 0.1329, Generator Loss: 3.6047\n",
            "Epoch [16/50], Step [100/938], Discriminator Loss: 0.3291, Generator Loss: 3.9149\n",
            "Epoch [16/50], Step [200/938], Discriminator Loss: 0.1238, Generator Loss: 4.8478\n",
            "Epoch [16/50], Step [300/938], Discriminator Loss: 0.1417, Generator Loss: 2.8564\n",
            "Epoch [16/50], Step [400/938], Discriminator Loss: 0.1426, Generator Loss: 2.9496\n",
            "Epoch [16/50], Step [500/938], Discriminator Loss: 0.2107, Generator Loss: 2.8994\n",
            "Epoch [16/50], Step [600/938], Discriminator Loss: 0.1953, Generator Loss: 3.0174\n",
            "Epoch [16/50], Step [700/938], Discriminator Loss: 1.4317, Generator Loss: 3.7193\n",
            "Epoch [16/50], Step [800/938], Discriminator Loss: 0.1453, Generator Loss: 3.1594\n",
            "Epoch [16/50], Step [900/938], Discriminator Loss: 0.5398, Generator Loss: 3.8753\n",
            "Epoch [17/50], Step [0/938], Discriminator Loss: 0.5062, Generator Loss: 3.9234\n",
            "Epoch [17/50], Step [100/938], Discriminator Loss: 0.1500, Generator Loss: 4.7418\n",
            "Epoch [17/50], Step [200/938], Discriminator Loss: 0.2789, Generator Loss: 3.0967\n",
            "Epoch [17/50], Step [300/938], Discriminator Loss: 0.1709, Generator Loss: 3.2338\n",
            "Epoch [17/50], Step [400/938], Discriminator Loss: 0.1775, Generator Loss: 3.5159\n",
            "Epoch [17/50], Step [500/938], Discriminator Loss: 0.3712, Generator Loss: 2.3555\n",
            "Epoch [17/50], Step [600/938], Discriminator Loss: 0.6423, Generator Loss: 2.5034\n",
            "Epoch [17/50], Step [700/938], Discriminator Loss: 0.1723, Generator Loss: 3.5215\n",
            "Epoch [17/50], Step [800/938], Discriminator Loss: 0.2945, Generator Loss: 3.0641\n",
            "Epoch [17/50], Step [900/938], Discriminator Loss: 0.6511, Generator Loss: 2.6557\n",
            "Epoch [18/50], Step [0/938], Discriminator Loss: 0.3325, Generator Loss: 3.4446\n",
            "Epoch [18/50], Step [100/938], Discriminator Loss: 1.1789, Generator Loss: 1.1014\n",
            "Epoch [18/50], Step [200/938], Discriminator Loss: 0.1932, Generator Loss: 4.5619\n",
            "Epoch [18/50], Step [300/938], Discriminator Loss: 0.4428, Generator Loss: 3.1853\n",
            "Epoch [18/50], Step [400/938], Discriminator Loss: 0.1758, Generator Loss: 4.6971\n",
            "Epoch [18/50], Step [500/938], Discriminator Loss: 0.0986, Generator Loss: 4.0125\n",
            "Epoch [18/50], Step [600/938], Discriminator Loss: 0.3235, Generator Loss: 3.9708\n",
            "Epoch [18/50], Step [700/938], Discriminator Loss: 0.2840, Generator Loss: 3.7299\n",
            "Epoch [18/50], Step [800/938], Discriminator Loss: 0.3256, Generator Loss: 3.9414\n",
            "Epoch [18/50], Step [900/938], Discriminator Loss: 0.2926, Generator Loss: 3.3915\n",
            "Epoch [19/50], Step [0/938], Discriminator Loss: 0.1082, Generator Loss: 4.0320\n",
            "Epoch [19/50], Step [100/938], Discriminator Loss: 0.2720, Generator Loss: 4.2977\n",
            "Epoch [19/50], Step [200/938], Discriminator Loss: 0.2750, Generator Loss: 2.2904\n",
            "Epoch [19/50], Step [300/938], Discriminator Loss: 0.1934, Generator Loss: 4.1757\n",
            "Epoch [19/50], Step [400/938], Discriminator Loss: 0.1505, Generator Loss: 1.9157\n",
            "Epoch [19/50], Step [500/938], Discriminator Loss: 0.1428, Generator Loss: 4.1128\n",
            "Epoch [19/50], Step [600/938], Discriminator Loss: 0.1397, Generator Loss: 2.5238\n",
            "Epoch [19/50], Step [700/938], Discriminator Loss: 0.2216, Generator Loss: 3.1313\n",
            "Epoch [19/50], Step [800/938], Discriminator Loss: 0.5607, Generator Loss: 3.6843\n",
            "Epoch [19/50], Step [900/938], Discriminator Loss: 0.0995, Generator Loss: 3.4134\n",
            "Epoch [20/50], Step [0/938], Discriminator Loss: 0.3394, Generator Loss: 2.4776\n",
            "Epoch [20/50], Step [100/938], Discriminator Loss: 0.5047, Generator Loss: 2.9897\n",
            "Epoch [20/50], Step [200/938], Discriminator Loss: 0.2781, Generator Loss: 3.1821\n",
            "Epoch [20/50], Step [300/938], Discriminator Loss: 0.2382, Generator Loss: 2.7140\n",
            "Epoch [20/50], Step [400/938], Discriminator Loss: 0.1221, Generator Loss: 4.9106\n",
            "Epoch [20/50], Step [500/938], Discriminator Loss: 0.2354, Generator Loss: 4.1631\n",
            "Epoch [20/50], Step [600/938], Discriminator Loss: 0.0711, Generator Loss: 3.6363\n",
            "Epoch [20/50], Step [700/938], Discriminator Loss: 0.7156, Generator Loss: 4.6357\n",
            "Epoch [20/50], Step [800/938], Discriminator Loss: 0.3031, Generator Loss: 4.4101\n",
            "Epoch [20/50], Step [900/938], Discriminator Loss: 0.3485, Generator Loss: 3.4849\n",
            "Epoch [21/50], Step [0/938], Discriminator Loss: 0.2505, Generator Loss: 2.2984\n",
            "Epoch [21/50], Step [100/938], Discriminator Loss: 0.3458, Generator Loss: 3.1236\n",
            "Epoch [21/50], Step [200/938], Discriminator Loss: 0.3484, Generator Loss: 4.1145\n",
            "Epoch [21/50], Step [300/938], Discriminator Loss: 0.1671, Generator Loss: 3.3567\n",
            "Epoch [21/50], Step [400/938], Discriminator Loss: 0.2228, Generator Loss: 2.5644\n",
            "Epoch [21/50], Step [500/938], Discriminator Loss: 0.6265, Generator Loss: 2.0638\n",
            "Epoch [21/50], Step [600/938], Discriminator Loss: 0.1450, Generator Loss: 2.7830\n",
            "Epoch [21/50], Step [700/938], Discriminator Loss: 0.8709, Generator Loss: 1.4997\n",
            "Epoch [21/50], Step [800/938], Discriminator Loss: 0.2985, Generator Loss: 2.2837\n",
            "Epoch [21/50], Step [900/938], Discriminator Loss: 0.8762, Generator Loss: 2.7542\n",
            "Epoch [22/50], Step [0/938], Discriminator Loss: 0.1712, Generator Loss: 2.9133\n",
            "Epoch [22/50], Step [100/938], Discriminator Loss: 0.3755, Generator Loss: 3.1703\n",
            "Epoch [22/50], Step [200/938], Discriminator Loss: 0.1978, Generator Loss: 1.8701\n",
            "Epoch [22/50], Step [300/938], Discriminator Loss: 0.2455, Generator Loss: 3.5008\n",
            "Epoch [22/50], Step [400/938], Discriminator Loss: 0.2017, Generator Loss: 2.5433\n",
            "Epoch [22/50], Step [500/938], Discriminator Loss: 0.5602, Generator Loss: 2.5777\n",
            "Epoch [22/50], Step [600/938], Discriminator Loss: 0.5743, Generator Loss: 2.3038\n",
            "Epoch [22/50], Step [700/938], Discriminator Loss: 0.3899, Generator Loss: 3.1414\n",
            "Epoch [22/50], Step [800/938], Discriminator Loss: 0.3247, Generator Loss: 4.5469\n",
            "Epoch [22/50], Step [900/938], Discriminator Loss: 1.6224, Generator Loss: 3.7045\n",
            "Epoch [23/50], Step [0/938], Discriminator Loss: 0.2562, Generator Loss: 3.4760\n",
            "Epoch [23/50], Step [100/938], Discriminator Loss: 0.0719, Generator Loss: 4.6118\n",
            "Epoch [23/50], Step [200/938], Discriminator Loss: 0.1944, Generator Loss: 3.5232\n",
            "Epoch [23/50], Step [300/938], Discriminator Loss: 0.0983, Generator Loss: 3.1571\n",
            "Epoch [23/50], Step [400/938], Discriminator Loss: 0.1384, Generator Loss: 3.5703\n",
            "Epoch [23/50], Step [500/938], Discriminator Loss: 0.1025, Generator Loss: 3.4664\n",
            "Epoch [23/50], Step [600/938], Discriminator Loss: 0.2166, Generator Loss: 3.2991\n",
            "Epoch [23/50], Step [700/938], Discriminator Loss: 0.2244, Generator Loss: 3.6710\n",
            "Epoch [23/50], Step [800/938], Discriminator Loss: 0.4860, Generator Loss: 2.7734\n",
            "Epoch [23/50], Step [900/938], Discriminator Loss: 0.3581, Generator Loss: 4.5281\n",
            "Epoch [24/50], Step [0/938], Discriminator Loss: 0.2275, Generator Loss: 2.9341\n",
            "Epoch [24/50], Step [100/938], Discriminator Loss: 0.1065, Generator Loss: 4.1949\n",
            "Epoch [24/50], Step [200/938], Discriminator Loss: 0.2096, Generator Loss: 3.3406\n",
            "Epoch [24/50], Step [300/938], Discriminator Loss: 0.1181, Generator Loss: 4.0497\n",
            "Epoch [24/50], Step [400/938], Discriminator Loss: 0.1956, Generator Loss: 4.2541\n",
            "Epoch [24/50], Step [500/938], Discriminator Loss: 0.2624, Generator Loss: 4.2786\n",
            "Epoch [24/50], Step [600/938], Discriminator Loss: 1.1102, Generator Loss: 3.9427\n",
            "Epoch [24/50], Step [700/938], Discriminator Loss: 0.0875, Generator Loss: 3.8521\n",
            "Epoch [24/50], Step [800/938], Discriminator Loss: 0.4166, Generator Loss: 1.8039\n",
            "Epoch [24/50], Step [900/938], Discriminator Loss: 0.2981, Generator Loss: 2.7312\n",
            "Epoch [25/50], Step [0/938], Discriminator Loss: 0.1522, Generator Loss: 3.3314\n",
            "Epoch [25/50], Step [100/938], Discriminator Loss: 0.2277, Generator Loss: 4.1637\n",
            "Epoch [25/50], Step [200/938], Discriminator Loss: 0.3081, Generator Loss: 2.4375\n",
            "Epoch [25/50], Step [300/938], Discriminator Loss: 0.5305, Generator Loss: 3.4010\n",
            "Epoch [25/50], Step [400/938], Discriminator Loss: 0.3059, Generator Loss: 2.4826\n",
            "Epoch [25/50], Step [500/938], Discriminator Loss: 0.2216, Generator Loss: 3.9637\n",
            "Epoch [25/50], Step [600/938], Discriminator Loss: 0.1493, Generator Loss: 3.0737\n",
            "Epoch [25/50], Step [700/938], Discriminator Loss: 0.3898, Generator Loss: 2.7368\n",
            "Epoch [25/50], Step [800/938], Discriminator Loss: 0.2790, Generator Loss: 2.7296\n",
            "Epoch [25/50], Step [900/938], Discriminator Loss: 0.1305, Generator Loss: 4.3175\n",
            "Epoch [26/50], Step [0/938], Discriminator Loss: 0.2313, Generator Loss: 3.8420\n",
            "Epoch [26/50], Step [100/938], Discriminator Loss: 0.5278, Generator Loss: 3.1954\n",
            "Epoch [26/50], Step [200/938], Discriminator Loss: 0.2301, Generator Loss: 2.7495\n",
            "Epoch [26/50], Step [300/938], Discriminator Loss: 0.2724, Generator Loss: 4.2913\n",
            "Epoch [26/50], Step [400/938], Discriminator Loss: 0.4119, Generator Loss: 3.6529\n",
            "Epoch [26/50], Step [500/938], Discriminator Loss: 0.1247, Generator Loss: 3.3507\n",
            "Epoch [26/50], Step [600/938], Discriminator Loss: 0.3768, Generator Loss: 2.6124\n",
            "Epoch [26/50], Step [700/938], Discriminator Loss: 0.1990, Generator Loss: 1.7695\n",
            "Epoch [26/50], Step [800/938], Discriminator Loss: 0.1892, Generator Loss: 1.6866\n",
            "Epoch [26/50], Step [900/938], Discriminator Loss: 0.1436, Generator Loss: 3.9664\n",
            "Epoch [27/50], Step [0/938], Discriminator Loss: 0.3083, Generator Loss: 3.3864\n",
            "Epoch [27/50], Step [100/938], Discriminator Loss: 0.4184, Generator Loss: 4.8660\n",
            "Epoch [27/50], Step [200/938], Discriminator Loss: 0.7571, Generator Loss: 3.1636\n",
            "Epoch [27/50], Step [300/938], Discriminator Loss: 0.4750, Generator Loss: 3.8906\n",
            "Epoch [27/50], Step [400/938], Discriminator Loss: 0.0576, Generator Loss: 4.2372\n",
            "Epoch [27/50], Step [500/938], Discriminator Loss: 1.3101, Generator Loss: 1.8496\n",
            "Epoch [27/50], Step [600/938], Discriminator Loss: 0.3869, Generator Loss: 2.9709\n",
            "Epoch [27/50], Step [700/938], Discriminator Loss: 0.1839, Generator Loss: 3.8002\n",
            "Epoch [27/50], Step [800/938], Discriminator Loss: 0.3127, Generator Loss: 3.8509\n",
            "Epoch [27/50], Step [900/938], Discriminator Loss: 0.2753, Generator Loss: 3.2080\n",
            "Epoch [28/50], Step [0/938], Discriminator Loss: 0.2394, Generator Loss: 3.8030\n",
            "Epoch [28/50], Step [100/938], Discriminator Loss: 0.4187, Generator Loss: 2.8236\n",
            "Epoch [28/50], Step [200/938], Discriminator Loss: 0.2626, Generator Loss: 2.4357\n",
            "Epoch [28/50], Step [300/938], Discriminator Loss: 0.4575, Generator Loss: 4.0696\n",
            "Epoch [28/50], Step [400/938], Discriminator Loss: 0.2233, Generator Loss: 2.2760\n",
            "Epoch [28/50], Step [500/938], Discriminator Loss: 0.0974, Generator Loss: 3.6914\n",
            "Epoch [28/50], Step [600/938], Discriminator Loss: 0.1322, Generator Loss: 3.6596\n",
            "Epoch [28/50], Step [700/938], Discriminator Loss: 0.5804, Generator Loss: 2.8439\n",
            "Epoch [28/50], Step [800/938], Discriminator Loss: 0.5175, Generator Loss: 2.6878\n",
            "Epoch [28/50], Step [900/938], Discriminator Loss: 0.2083, Generator Loss: 2.5058\n",
            "Epoch [29/50], Step [0/938], Discriminator Loss: 0.4757, Generator Loss: 4.9046\n",
            "Epoch [29/50], Step [100/938], Discriminator Loss: 0.3169, Generator Loss: 2.1634\n",
            "Epoch [29/50], Step [200/938], Discriminator Loss: 0.4628, Generator Loss: 3.5749\n",
            "Epoch [29/50], Step [300/938], Discriminator Loss: 0.4148, Generator Loss: 1.3626\n",
            "Epoch [29/50], Step [400/938], Discriminator Loss: 0.5229, Generator Loss: 3.2045\n",
            "Epoch [29/50], Step [500/938], Discriminator Loss: 0.5048, Generator Loss: 1.8829\n",
            "Epoch [29/50], Step [600/938], Discriminator Loss: 0.1949, Generator Loss: 2.8626\n",
            "Epoch [29/50], Step [700/938], Discriminator Loss: 0.8229, Generator Loss: 3.4004\n",
            "Epoch [29/50], Step [800/938], Discriminator Loss: 0.4148, Generator Loss: 3.6551\n",
            "Epoch [29/50], Step [900/938], Discriminator Loss: 0.2609, Generator Loss: 5.0870\n",
            "Epoch [30/50], Step [0/938], Discriminator Loss: 0.5540, Generator Loss: 4.4755\n",
            "Epoch [30/50], Step [100/938], Discriminator Loss: 0.2120, Generator Loss: 2.8868\n",
            "Epoch [30/50], Step [200/938], Discriminator Loss: 0.1558, Generator Loss: 4.0401\n",
            "Epoch [30/50], Step [300/938], Discriminator Loss: 0.2530, Generator Loss: 3.9365\n",
            "Epoch [30/50], Step [400/938], Discriminator Loss: 1.0535, Generator Loss: 4.1810\n",
            "Epoch [30/50], Step [500/938], Discriminator Loss: 0.4025, Generator Loss: 3.3882\n",
            "Epoch [30/50], Step [600/938], Discriminator Loss: 0.5363, Generator Loss: 2.7459\n",
            "Epoch [30/50], Step [700/938], Discriminator Loss: 0.2115, Generator Loss: 3.1271\n",
            "Epoch [30/50], Step [800/938], Discriminator Loss: 0.3793, Generator Loss: 2.0045\n",
            "Epoch [30/50], Step [900/938], Discriminator Loss: 0.7614, Generator Loss: 1.9720\n",
            "Epoch [31/50], Step [0/938], Discriminator Loss: 1.4919, Generator Loss: 6.1079\n",
            "Epoch [31/50], Step [100/938], Discriminator Loss: 0.2961, Generator Loss: 3.7636\n",
            "Epoch [31/50], Step [200/938], Discriminator Loss: 0.1475, Generator Loss: 2.5939\n",
            "Epoch [31/50], Step [300/938], Discriminator Loss: 0.0696, Generator Loss: 2.7783\n",
            "Epoch [31/50], Step [400/938], Discriminator Loss: 0.1323, Generator Loss: 2.7447\n",
            "Epoch [31/50], Step [500/938], Discriminator Loss: 0.3776, Generator Loss: 3.6750\n",
            "Epoch [31/50], Step [600/938], Discriminator Loss: 0.2268, Generator Loss: 3.6153\n",
            "Epoch [31/50], Step [700/938], Discriminator Loss: 0.3139, Generator Loss: 3.9600\n",
            "Epoch [31/50], Step [800/938], Discriminator Loss: 0.1140, Generator Loss: 2.1204\n",
            "Epoch [31/50], Step [900/938], Discriminator Loss: 0.2853, Generator Loss: 4.6196\n",
            "Epoch [32/50], Step [0/938], Discriminator Loss: 0.2277, Generator Loss: 4.0658\n",
            "Epoch [32/50], Step [100/938], Discriminator Loss: 0.1577, Generator Loss: 2.9210\n",
            "Epoch [32/50], Step [200/938], Discriminator Loss: 0.1625, Generator Loss: 2.8592\n",
            "Epoch [32/50], Step [300/938], Discriminator Loss: 0.2132, Generator Loss: 3.8213\n",
            "Epoch [32/50], Step [400/938], Discriminator Loss: 0.1669, Generator Loss: 2.7357\n",
            "Epoch [32/50], Step [500/938], Discriminator Loss: 0.2302, Generator Loss: 2.0591\n",
            "Epoch [32/50], Step [600/938], Discriminator Loss: 0.1675, Generator Loss: 4.4909\n",
            "Epoch [32/50], Step [700/938], Discriminator Loss: 0.5350, Generator Loss: 2.5961\n",
            "Epoch [32/50], Step [800/938], Discriminator Loss: 0.6857, Generator Loss: 1.7155\n",
            "Epoch [32/50], Step [900/938], Discriminator Loss: 0.3200, Generator Loss: 1.9807\n",
            "Epoch [33/50], Step [0/938], Discriminator Loss: 0.7369, Generator Loss: 1.9430\n",
            "Epoch [33/50], Step [100/938], Discriminator Loss: 0.4869, Generator Loss: 2.8227\n",
            "Epoch [33/50], Step [200/938], Discriminator Loss: 0.3734, Generator Loss: 5.0799\n",
            "Epoch [33/50], Step [300/938], Discriminator Loss: 0.3258, Generator Loss: 3.4054\n",
            "Epoch [33/50], Step [400/938], Discriminator Loss: 0.4528, Generator Loss: 3.8091\n",
            "Epoch [33/50], Step [500/938], Discriminator Loss: 0.8816, Generator Loss: 3.5286\n",
            "Epoch [33/50], Step [600/938], Discriminator Loss: 0.5465, Generator Loss: 1.2736\n",
            "Epoch [33/50], Step [700/938], Discriminator Loss: 0.1470, Generator Loss: 3.4537\n",
            "Epoch [33/50], Step [800/938], Discriminator Loss: 0.0595, Generator Loss: 2.7919\n",
            "Epoch [33/50], Step [900/938], Discriminator Loss: 0.4546, Generator Loss: 3.5117\n",
            "Epoch [34/50], Step [0/938], Discriminator Loss: 0.1989, Generator Loss: 2.8233\n",
            "Epoch [34/50], Step [100/938], Discriminator Loss: 0.7063, Generator Loss: 3.1893\n",
            "Epoch [34/50], Step [200/938], Discriminator Loss: 0.2192, Generator Loss: 1.9243\n",
            "Epoch [34/50], Step [300/938], Discriminator Loss: 0.5236, Generator Loss: 3.0073\n",
            "Epoch [34/50], Step [400/938], Discriminator Loss: 0.5542, Generator Loss: 3.2773\n",
            "Epoch [34/50], Step [500/938], Discriminator Loss: 0.5482, Generator Loss: 1.2949\n",
            "Epoch [34/50], Step [600/938], Discriminator Loss: 0.2953, Generator Loss: 3.8863\n",
            "Epoch [34/50], Step [700/938], Discriminator Loss: 0.6399, Generator Loss: 2.4511\n",
            "Epoch [34/50], Step [800/938], Discriminator Loss: 0.1559, Generator Loss: 4.1167\n",
            "Epoch [34/50], Step [900/938], Discriminator Loss: 0.2407, Generator Loss: 3.8525\n",
            "Epoch [35/50], Step [0/938], Discriminator Loss: 0.6714, Generator Loss: 2.9850\n",
            "Epoch [35/50], Step [100/938], Discriminator Loss: 0.4091, Generator Loss: 3.1148\n",
            "Epoch [35/50], Step [200/938], Discriminator Loss: 1.3821, Generator Loss: 1.9122\n",
            "Epoch [35/50], Step [300/938], Discriminator Loss: 0.5702, Generator Loss: 1.9873\n",
            "Epoch [35/50], Step [400/938], Discriminator Loss: 0.0641, Generator Loss: 3.5511\n",
            "Epoch [35/50], Step [500/938], Discriminator Loss: 0.3497, Generator Loss: 4.0027\n",
            "Epoch [35/50], Step [600/938], Discriminator Loss: 0.2806, Generator Loss: 2.7326\n",
            "Epoch [35/50], Step [700/938], Discriminator Loss: 0.4499, Generator Loss: 3.6474\n",
            "Epoch [35/50], Step [800/938], Discriminator Loss: 0.2640, Generator Loss: 3.0585\n",
            "Epoch [35/50], Step [900/938], Discriminator Loss: 0.3557, Generator Loss: 3.1561\n",
            "Epoch [36/50], Step [0/938], Discriminator Loss: 0.1840, Generator Loss: 4.3673\n",
            "Epoch [36/50], Step [100/938], Discriminator Loss: 0.1413, Generator Loss: 3.5271\n",
            "Epoch [36/50], Step [200/938], Discriminator Loss: 0.5073, Generator Loss: 2.8665\n",
            "Epoch [36/50], Step [300/938], Discriminator Loss: 0.1190, Generator Loss: 2.7573\n",
            "Epoch [36/50], Step [400/938], Discriminator Loss: 0.1441, Generator Loss: 5.2142\n",
            "Epoch [36/50], Step [500/938], Discriminator Loss: 0.2792, Generator Loss: 2.4426\n",
            "Epoch [36/50], Step [600/938], Discriminator Loss: 0.5642, Generator Loss: 2.5644\n",
            "Epoch [36/50], Step [700/938], Discriminator Loss: 0.2161, Generator Loss: 4.1917\n",
            "Epoch [36/50], Step [800/938], Discriminator Loss: 0.3026, Generator Loss: 3.3079\n",
            "Epoch [36/50], Step [900/938], Discriminator Loss: 0.4778, Generator Loss: 2.3564\n",
            "Epoch [37/50], Step [0/938], Discriminator Loss: 0.2262, Generator Loss: 4.8801\n",
            "Epoch [37/50], Step [100/938], Discriminator Loss: 0.1261, Generator Loss: 3.9988\n",
            "Epoch [37/50], Step [200/938], Discriminator Loss: 0.4684, Generator Loss: 3.3322\n",
            "Epoch [37/50], Step [300/938], Discriminator Loss: 0.5963, Generator Loss: 2.8485\n",
            "Epoch [37/50], Step [400/938], Discriminator Loss: 0.1473, Generator Loss: 4.3624\n",
            "Epoch [37/50], Step [500/938], Discriminator Loss: 0.5919, Generator Loss: 3.7119\n",
            "Epoch [37/50], Step [600/938], Discriminator Loss: 1.3841, Generator Loss: 2.8955\n",
            "Epoch [37/50], Step [700/938], Discriminator Loss: 1.0187, Generator Loss: 1.9724\n",
            "Epoch [37/50], Step [800/938], Discriminator Loss: 0.4786, Generator Loss: 1.4934\n",
            "Epoch [37/50], Step [900/938], Discriminator Loss: 0.7287, Generator Loss: 3.7630\n",
            "Epoch [38/50], Step [0/938], Discriminator Loss: 0.2381, Generator Loss: 2.5136\n",
            "Epoch [38/50], Step [100/938], Discriminator Loss: 0.2796, Generator Loss: 2.0378\n",
            "Epoch [38/50], Step [200/938], Discriminator Loss: 1.0683, Generator Loss: 2.8542\n",
            "Epoch [38/50], Step [300/938], Discriminator Loss: 0.2481, Generator Loss: 2.9660\n",
            "Epoch [38/50], Step [400/938], Discriminator Loss: 0.2986, Generator Loss: 4.0752\n",
            "Epoch [38/50], Step [500/938], Discriminator Loss: 0.5759, Generator Loss: 2.4159\n",
            "Epoch [38/50], Step [600/938], Discriminator Loss: 0.0748, Generator Loss: 3.0222\n",
            "Epoch [38/50], Step [700/938], Discriminator Loss: 0.3037, Generator Loss: 2.0483\n",
            "Epoch [38/50], Step [800/938], Discriminator Loss: 0.2262, Generator Loss: 4.3954\n",
            "Epoch [38/50], Step [900/938], Discriminator Loss: 0.1396, Generator Loss: 3.7934\n",
            "Epoch [39/50], Step [0/938], Discriminator Loss: 1.0110, Generator Loss: 3.7073\n",
            "Epoch [39/50], Step [100/938], Discriminator Loss: 0.2566, Generator Loss: 3.1772\n",
            "Epoch [39/50], Step [200/938], Discriminator Loss: 0.2433, Generator Loss: 2.2427\n",
            "Epoch [39/50], Step [300/938], Discriminator Loss: 0.4985, Generator Loss: 3.0945\n",
            "Epoch [39/50], Step [400/938], Discriminator Loss: 0.1568, Generator Loss: 2.9168\n",
            "Epoch [39/50], Step [500/938], Discriminator Loss: 0.8497, Generator Loss: 1.6982\n",
            "Epoch [39/50], Step [600/938], Discriminator Loss: 0.5557, Generator Loss: 1.1875\n",
            "Epoch [39/50], Step [700/938], Discriminator Loss: 1.4449, Generator Loss: 3.3251\n",
            "Epoch [39/50], Step [800/938], Discriminator Loss: 0.3344, Generator Loss: 5.6595\n",
            "Epoch [39/50], Step [900/938], Discriminator Loss: 0.4140, Generator Loss: 4.5410\n",
            "Epoch [40/50], Step [0/938], Discriminator Loss: 0.4400, Generator Loss: 1.7598\n",
            "Epoch [40/50], Step [100/938], Discriminator Loss: 0.2380, Generator Loss: 3.9445\n",
            "Epoch [40/50], Step [200/938], Discriminator Loss: 0.8885, Generator Loss: 4.1715\n",
            "Epoch [40/50], Step [300/938], Discriminator Loss: 0.4253, Generator Loss: 2.3891\n",
            "Epoch [40/50], Step [400/938], Discriminator Loss: 0.5177, Generator Loss: 3.1520\n",
            "Epoch [40/50], Step [500/938], Discriminator Loss: 0.4623, Generator Loss: 3.2338\n",
            "Epoch [40/50], Step [600/938], Discriminator Loss: 0.7611, Generator Loss: 2.7497\n",
            "Epoch [40/50], Step [700/938], Discriminator Loss: 0.4952, Generator Loss: 2.2384\n",
            "Epoch [40/50], Step [800/938], Discriminator Loss: 0.7403, Generator Loss: 2.9287\n",
            "Epoch [40/50], Step [900/938], Discriminator Loss: 0.1669, Generator Loss: 4.8798\n",
            "Epoch [41/50], Step [0/938], Discriminator Loss: 0.3247, Generator Loss: 2.3319\n",
            "Epoch [41/50], Step [100/938], Discriminator Loss: 1.5250, Generator Loss: 1.6348\n",
            "Epoch [41/50], Step [200/938], Discriminator Loss: 0.2900, Generator Loss: 2.3288\n",
            "Epoch [41/50], Step [300/938], Discriminator Loss: 0.1207, Generator Loss: 3.8569\n",
            "Epoch [41/50], Step [400/938], Discriminator Loss: 0.2644, Generator Loss: 0.8578\n",
            "Epoch [41/50], Step [500/938], Discriminator Loss: 0.3161, Generator Loss: 1.3675\n",
            "Epoch [41/50], Step [600/938], Discriminator Loss: 0.4924, Generator Loss: 3.8290\n",
            "Epoch [41/50], Step [700/938], Discriminator Loss: 0.4487, Generator Loss: 4.2568\n",
            "Epoch [41/50], Step [800/938], Discriminator Loss: 0.1992, Generator Loss: 2.9440\n",
            "Epoch [41/50], Step [900/938], Discriminator Loss: 0.3562, Generator Loss: 3.7805\n",
            "Epoch [42/50], Step [0/938], Discriminator Loss: 0.3652, Generator Loss: 1.8468\n",
            "Epoch [42/50], Step [100/938], Discriminator Loss: 0.4820, Generator Loss: 2.8110\n",
            "Epoch [42/50], Step [200/938], Discriminator Loss: 0.3678, Generator Loss: 2.1014\n",
            "Epoch [42/50], Step [300/938], Discriminator Loss: 0.5292, Generator Loss: 1.5714\n",
            "Epoch [42/50], Step [400/938], Discriminator Loss: 0.5039, Generator Loss: 4.8898\n",
            "Epoch [42/50], Step [500/938], Discriminator Loss: 0.9635, Generator Loss: 2.4263\n",
            "Epoch [42/50], Step [600/938], Discriminator Loss: 0.3877, Generator Loss: 3.1659\n",
            "Epoch [42/50], Step [700/938], Discriminator Loss: 0.6838, Generator Loss: 3.2612\n",
            "Epoch [42/50], Step [800/938], Discriminator Loss: 0.1235, Generator Loss: 4.0296\n",
            "Epoch [42/50], Step [900/938], Discriminator Loss: 0.2817, Generator Loss: 4.0137\n",
            "Epoch [43/50], Step [0/938], Discriminator Loss: 0.6885, Generator Loss: 1.4523\n",
            "Epoch [43/50], Step [100/938], Discriminator Loss: 0.2617, Generator Loss: 4.8761\n",
            "Epoch [43/50], Step [200/938], Discriminator Loss: 0.5533, Generator Loss: 3.5208\n",
            "Epoch [43/50], Step [300/938], Discriminator Loss: 0.2701, Generator Loss: 2.7329\n",
            "Epoch [43/50], Step [400/938], Discriminator Loss: 0.5358, Generator Loss: 1.5029\n",
            "Epoch [43/50], Step [500/938], Discriminator Loss: 0.1545, Generator Loss: 3.0766\n",
            "Epoch [43/50], Step [600/938], Discriminator Loss: 0.1558, Generator Loss: 3.1044\n",
            "Epoch [43/50], Step [700/938], Discriminator Loss: 0.1232, Generator Loss: 2.8661\n",
            "Epoch [43/50], Step [800/938], Discriminator Loss: 0.2044, Generator Loss: 0.8284\n",
            "Epoch [43/50], Step [900/938], Discriminator Loss: 0.1320, Generator Loss: 4.0782\n",
            "Epoch [44/50], Step [0/938], Discriminator Loss: 0.2675, Generator Loss: 2.9733\n",
            "Epoch [44/50], Step [100/938], Discriminator Loss: 0.8060, Generator Loss: 2.2384\n",
            "Epoch [44/50], Step [200/938], Discriminator Loss: 0.5222, Generator Loss: 3.4146\n",
            "Epoch [44/50], Step [300/938], Discriminator Loss: 0.6996, Generator Loss: 2.1858\n",
            "Epoch [44/50], Step [400/938], Discriminator Loss: 0.2377, Generator Loss: 3.3365\n",
            "Epoch [44/50], Step [500/938], Discriminator Loss: 0.4121, Generator Loss: 1.5161\n",
            "Epoch [44/50], Step [600/938], Discriminator Loss: 0.1405, Generator Loss: 3.6080\n",
            "Epoch [44/50], Step [700/938], Discriminator Loss: 0.5328, Generator Loss: 2.7615\n",
            "Epoch [44/50], Step [800/938], Discriminator Loss: 0.4959, Generator Loss: 2.8827\n",
            "Epoch [44/50], Step [900/938], Discriminator Loss: 0.6908, Generator Loss: 1.5536\n",
            "Epoch [45/50], Step [0/938], Discriminator Loss: 1.0933, Generator Loss: 3.4224\n",
            "Epoch [45/50], Step [100/938], Discriminator Loss: 1.6290, Generator Loss: 2.3045\n",
            "Epoch [45/50], Step [200/938], Discriminator Loss: 0.3739, Generator Loss: 1.1565\n",
            "Epoch [45/50], Step [300/938], Discriminator Loss: 0.2417, Generator Loss: 4.9200\n",
            "Epoch [45/50], Step [400/938], Discriminator Loss: 0.7310, Generator Loss: 2.5547\n",
            "Epoch [45/50], Step [500/938], Discriminator Loss: 0.1975, Generator Loss: 3.3161\n",
            "Epoch [45/50], Step [600/938], Discriminator Loss: 0.2713, Generator Loss: 4.0724\n",
            "Epoch [45/50], Step [700/938], Discriminator Loss: 0.5996, Generator Loss: 0.9611\n",
            "Epoch [45/50], Step [800/938], Discriminator Loss: 0.1960, Generator Loss: 2.4280\n",
            "Epoch [45/50], Step [900/938], Discriminator Loss: 0.4357, Generator Loss: 3.0704\n",
            "Epoch [46/50], Step [0/938], Discriminator Loss: 0.1135, Generator Loss: 2.5295\n",
            "Epoch [46/50], Step [100/938], Discriminator Loss: 0.5624, Generator Loss: 0.9935\n",
            "Epoch [46/50], Step [200/938], Discriminator Loss: 0.3819, Generator Loss: 2.5427\n",
            "Epoch [46/50], Step [300/938], Discriminator Loss: 0.1644, Generator Loss: 2.9396\n",
            "Epoch [46/50], Step [400/938], Discriminator Loss: 0.5085, Generator Loss: 2.4026\n",
            "Epoch [46/50], Step [500/938], Discriminator Loss: 0.5916, Generator Loss: 1.1783\n",
            "Epoch [46/50], Step [600/938], Discriminator Loss: 0.1290, Generator Loss: 3.6947\n",
            "Epoch [46/50], Step [700/938], Discriminator Loss: 0.0995, Generator Loss: 4.0195\n",
            "Epoch [46/50], Step [800/938], Discriminator Loss: 0.3134, Generator Loss: 1.9129\n",
            "Epoch [46/50], Step [900/938], Discriminator Loss: 0.4173, Generator Loss: 2.0097\n",
            "Epoch [47/50], Step [0/938], Discriminator Loss: 0.2264, Generator Loss: 2.5679\n",
            "Epoch [47/50], Step [100/938], Discriminator Loss: 1.4277, Generator Loss: 1.9032\n",
            "Epoch [47/50], Step [200/938], Discriminator Loss: 0.3420, Generator Loss: 1.5869\n",
            "Epoch [47/50], Step [300/938], Discriminator Loss: 0.8846, Generator Loss: 4.1950\n",
            "Epoch [47/50], Step [400/938], Discriminator Loss: 0.2857, Generator Loss: 2.9817\n",
            "Epoch [47/50], Step [500/938], Discriminator Loss: 0.3972, Generator Loss: 4.3440\n",
            "Epoch [47/50], Step [600/938], Discriminator Loss: 0.3632, Generator Loss: 2.5669\n",
            "Epoch [47/50], Step [700/938], Discriminator Loss: 0.2872, Generator Loss: 1.5990\n",
            "Epoch [47/50], Step [800/938], Discriminator Loss: 0.2723, Generator Loss: 2.5684\n",
            "Epoch [47/50], Step [900/938], Discriminator Loss: 1.1896, Generator Loss: 2.9200\n",
            "Epoch [48/50], Step [0/938], Discriminator Loss: 0.3384, Generator Loss: 1.6000\n",
            "Epoch [48/50], Step [100/938], Discriminator Loss: 0.1837, Generator Loss: 2.1135\n",
            "Epoch [48/50], Step [200/938], Discriminator Loss: 0.6892, Generator Loss: 2.1692\n",
            "Epoch [48/50], Step [300/938], Discriminator Loss: 1.5268, Generator Loss: 2.3428\n",
            "Epoch [48/50], Step [400/938], Discriminator Loss: 0.3527, Generator Loss: 2.9807\n",
            "Epoch [48/50], Step [500/938], Discriminator Loss: 1.2666, Generator Loss: 0.8280\n",
            "Epoch [48/50], Step [600/938], Discriminator Loss: 0.0678, Generator Loss: 3.6178\n",
            "Epoch [48/50], Step [700/938], Discriminator Loss: 0.4903, Generator Loss: 4.2510\n",
            "Epoch [48/50], Step [800/938], Discriminator Loss: 0.1998, Generator Loss: 3.7239\n",
            "Epoch [48/50], Step [900/938], Discriminator Loss: 0.5670, Generator Loss: 2.9443\n",
            "Epoch [49/50], Step [0/938], Discriminator Loss: 0.2955, Generator Loss: 4.3407\n",
            "Epoch [49/50], Step [100/938], Discriminator Loss: 0.3506, Generator Loss: 2.8280\n",
            "Epoch [49/50], Step [200/938], Discriminator Loss: 0.1447, Generator Loss: 2.0751\n",
            "Epoch [49/50], Step [300/938], Discriminator Loss: 0.4492, Generator Loss: 1.6304\n",
            "Epoch [49/50], Step [400/938], Discriminator Loss: 0.3287, Generator Loss: 3.2909\n",
            "Epoch [49/50], Step [500/938], Discriminator Loss: 0.9503, Generator Loss: 2.4964\n",
            "Epoch [49/50], Step [600/938], Discriminator Loss: 0.6567, Generator Loss: 0.9143\n",
            "Epoch [49/50], Step [700/938], Discriminator Loss: 0.4004, Generator Loss: 2.9220\n",
            "Epoch [49/50], Step [800/938], Discriminator Loss: 0.2158, Generator Loss: 3.1823\n",
            "Epoch [49/50], Step [900/938], Discriminator Loss: 0.1745, Generator Loss: 2.2798\n"
          ]
        }
      ],
      "source": [
        "num_epochs = 50\n",
        "\n",
        "# Training Loop\n",
        "\n",
        "for epoch in range(num_epochs):\n",
        "    for i, (real_images, _) in enumerate(train_loader):\n",
        "        batch_size = real_images.size(0)\n",
        "        real_labels = torch.ones(batch_size, 1)\n",
        "        fake_labels = torch.zeros(batch_size, 1)\n",
        "\n",
        "        # Train Discriminator with real images\n",
        "        discriminator.zero_grad()\n",
        "        real_images = real_images.view(batch_size, -1)\n",
        "        real_output = discriminator(real_images)\n",
        "        d_loss_real = criterion(real_output, real_labels)\n",
        "        d_loss_real.backward()\n",
        "\n",
        "        # Train Discriminator with fake images\n",
        "        z = torch.randn(batch_size, latent_dim)\n",
        "        fake_images = generator(z)\n",
        "        fake_output = discriminator(fake_images.detach())\n",
        "        d_loss_fake = criterion(fake_output, fake_labels)\n",
        "        d_loss_fake.backward()\n",
        "        optimizer_d.step()\n",
        "\n",
        "        # Train Generator\n",
        "        generator.zero_grad()\n",
        "        fake_output = discriminator(fake_images)\n",
        "        g_loss = criterion(fake_output, real_labels)\n",
        "        g_loss.backward()\n",
        "        optimizer_g.step()\n",
        "\n",
        "        if i % 100 == 0:\n",
        "            print(\n",
        "                f\"Epoch [{epoch}/{num_epochs}], Step [{i}/{len(train_loader)}], \"\n",
        "                f\"Discriminator Loss: {(d_loss_real + d_loss_fake).item():.4f}, \"\n",
        "                f\"Generator Loss: {g_loss.item():.4f}\"\n",
        "            )\n",
        "\n",
        "# Save the trained models\n",
        "torch.save(generator.state_dict(), 'generator.pth')\n",
        "torch.save(discriminator.state_dict(), 'discriminator.pth')\n"
      ]
    },
    {
      "cell_type": "markdown",
      "metadata": {
        "id": "yUpVr9nOaAlG"
      },
      "source": [
        "# Display images (2 marks)"
      ]
    },
    {
      "cell_type": "markdown",
      "metadata": {},
      "source": [
        "Just display an image here using your generator model"
      ]
    },
    {
      "cell_type": "code",
      "execution_count": 83,
      "metadata": {
        "colab": {
          "base_uri": "https://localhost:8080/",
          "height": 430
        },
        "id": "ItnvNrYGXVDp",
        "outputId": "a76bdf1d-72c8-4a41-cfb2-fd54af49241f"
      },
      "outputs": [
        {
          "data": {
            "image/png": "[encoded data removed]",
            "text/plain": [
              "<Figure size 640x480 with 1 Axes>"
            ]
          },
          "metadata": {},
          "output_type": "display_data"
        }
      ],
      "source": [
        "# Load the trained generator model\n",
        "generator = Generator(latent_dim, img_shape)\n",
        "generator.load_state_dict(torch.load('generator.pth'))\n",
        "generator.eval()  # Set the model to evaluation mode\n",
        "\n",
        "# Generate a random noise vector\n",
        "z = torch.randn(1, latent_dim)\n",
        "\n",
        "# Generate an image using the generator\n",
        "with torch.no_grad():\n",
        "    generated_image = generator(z).view(28, 28)  # Assuming MNIST image size\n",
        "\n",
        "# Convert the generated image tensor to a numpy array\n",
        "generated_image = generated_image.numpy()\n",
        "\n",
        "# Display the generated image\n",
        "plt.imshow(generated_image, cmap='gray')\n",
        "plt.axis('off')\n",
        "plt.show()"
      ]
    },
    {
      "cell_type": "markdown",
      "metadata": {
        "id": "Eh86GuU9aAlH"
      },
      "source": [
        "# Setting up latent space interpolation  \n"
      ]
    },
    {
      "cell_type": "markdown",
      "metadata": {},
      "source": [
        "Alright then, now that we are done with generating images, next lets take a look at the models latent space. \n",
        "\n",
        "What is it, and how do we use it?\n",
        "\n",
        "The latent space is the space of all possible inputs that the generator can take, and it is a vector space, and since it is a vector space we can do some vector operations on it, such as interpolation, which is what we will be doing here.\n",
        "\n",
        "To read up more on this, you can visit the following link: https://machinelearningmastery.com/how-to-interpolate-and-perform-vector-arithmetic-with-faces-using-a-generative-adversarial-network/ this is a pretty good article on the topic, which also talks about an implementation of this, we will be doing something similar here."
      ]
    },
    {
      "cell_type": "markdown",
      "metadata": {},
      "source": [
        "So what you have to do here is generate two images of random numbers, once you have done this you have to interpolate between them, and display the images at each step of the interpolation."
      ]
    },
    {
      "cell_type": "markdown",
      "metadata": {
        "id": "OT8B9FujaAlH"
      },
      "source": [
        "# Latent space time (5 marks)\n"
      ]
    },
    {
      "cell_type": "markdown",
      "metadata": {},
      "source": [
        "Now that we have the images, lets interpolate between them, So what you have to do here is generate two images of random numbers, once you have done this you have to interpolate between them, and display the images at each step of the interpolation, the result here should be a series of images that show how the generator is transitioning from one image to another, how it goes from an image of 3 it generated to an image of 7 for example.\n",
        "\n",
        "Please make sure that there are atleast 10 steps including, the final and starting images."
      ]
    },
    {
      "cell_type": "code",
      "execution_count": null,
      "metadata": {
        "colab": {
          "base_uri": "https://localhost:8080/",
          "height": 356
        },
        "id": "zawJThnfaAlH",
        "outputId": "9795a9c2-7565-4345-9606-2c6823052582"
      },
      "outputs": [],
      "source": []
    },
    {
      "cell_type": "markdown",
      "metadata": {},
      "source": [
        "# Vector arithmatic in the latent space (5 marks)"
      ]
    },
    {
      "cell_type": "markdown",
      "metadata": {},
      "source": [
        "Ok, so if you were able to do that last part, one thing you may have noticed is that, in certain cases  when transitioning between one number and another, the image takes the form of some completely different number, for example, when transitioning from a 3 to a 6, the image may look like a 5 at some point, before going to a 6."
      ]
    },
    {
      "cell_type": "markdown",
      "metadata": {},
      "source": [
        "When we interpolate in this latent space, we're essentially taking a path from the representation of one digit to another. However, because this space is learned from the data and is designed to capture the underlying variations within it, the path between any two points can pass through regions that represent a mix of features from both endpoints. \n",
        "\n",
        "This is equivalent to doing arithmetic in the latent space, and it's a powerful tool for manipulating the representations of the data. For example, if we take the representation of the number 1 and add the representation of the number 0, we can obtain a new representation that captures the shared features of both numbers. something that resembles the circular shape of the 0, but also the vertical line segment of the one so a 9."
      ]
    },
    {
      "cell_type": "markdown",
      "metadata": {},
      "source": [
        "That is exactly what you have to do, this is what you have to do:\n",
        "\n",
        "1. Generate 2 images\n",
        "2. Perform additon on the latent space vectors of the images \n",
        "3. Display the results.\n",
        "\n",
        "do this with atleast 3 different pairs of images."
      ]
    },
    {
      "cell_type": "markdown",
      "metadata": {},
      "source": [
        "[(note this addition and subtraction is methaphorical, you are not actually adding or subtracting the vectors, interpolate between them and find a point where features of both images are visible, essentially adding the two images)]"
      ]
    },
    {
      "cell_type": "code",
      "execution_count": 11,
      "metadata": {},
      "outputs": [],
      "source": [
        "# display two random images from the generator, then dispaly there additon."
      ]
    },
    {
      "cell_type": "code",
      "execution_count": 12,
      "metadata": {},
      "outputs": [],
      "source": [
        "# display two random images from the generator, then dispaly there additon."
      ]
    },
    {
      "cell_type": "markdown",
      "metadata": {},
      "source": [
        "# Some Analytical questions (5)"
      ]
    },
    {
      "cell_type": "markdown",
      "metadata": {},
      "source": [
        "Q1) What would happen if you were to reduce the size of the dataset to 1/2 the number of images, and then train the GAN, how would the results differ, and why? Please do the following:\n",
        "\n",
        "1. Train the GAN with the 1/2 the dataset\n",
        "2. Generate images using this newly trained model\n",
        "3. Along with a couple of images give reasoning for the results, as well as a description of the results."
      ]
    },
    {
      "cell_type": "markdown",
      "metadata": {},
      "source": [
        "Ans here:"
      ]
    },
    {
      "cell_type": "markdown",
      "metadata": {},
      "source": [
        "Q2) What would happen if you were to change the loss function of the GAN, how would the results differ, and why? Please do the following:\n",
        "\n",
        "1. Train the GAN with a different loss function, this could be any other loss function, it could be any of your choosing.\n",
        "2. Generate images using this newly trained model.\n",
        "3. Along with a couple of images give reasoning for the results, as well as a description of the results."
      ]
    },
    {
      "cell_type": "markdown",
      "metadata": {},
      "source": [
        "Ans here:"
      ]
    }
  ],
  "metadata": {
    "colab": {
      "provenance": []
    },
    "kernelspec": {
      "display_name": "Python 3",
      "name": "python3"
    },
    "language_info": {
      "codemirror_mode": {
        "name": "ipython",
        "version": 3
      },
      "file_extension": ".py",
      "mimetype": "text/x-python",
      "name": "python",
      "nbconvert_exporter": "python",
      "pygments_lexer": "ipython3",
      "version": "3.9.6"
    },
    "widgets": {
      "application/vnd.jupyter.widget-state+json": {
        "60bf3201337146fa80d609acf489e46a": {
          "model_module": "@jupyter-widgets/base",
          "model_module_version": "1.2.0",
          "model_name": "LayoutModel",
          "state": {
            "_model_module": "@jupyter-widgets/base",
            "_model_module_version": "1.2.0",
            "_model_name": "LayoutModel",
            "_view_count": null,
            "_view_module": "@jupyter-widgets/base",
            "_view_module_version": "1.2.0",
            "_view_name": "LayoutView",
            "align_content": null,
            "align_items": null,
            "align_self": null,
            "border": null,
            "bottom": null,
            "display": null,
            "flex": null,
            "flex_flow": null,
            "grid_area": null,
            "grid_auto_columns": null,
            "grid_auto_flow": null,
            "grid_auto_rows": null,
            "grid_column": null,
            "grid_gap": null,
            "grid_row": null,
            "grid_template_areas": null,
            "grid_template_columns": null,
            "grid_template_rows": null,
            "height": null,
            "justify_content": null,
            "justify_items": null,
            "left": null,
            "margin": null,
            "max_height": null,
            "max_width": null,
            "min_height": null,
            "min_width": null,
            "object_fit": null,
            "object_position": null,
            "order": null,
            "overflow": null,
            "overflow_x": null,
            "overflow_y": null,
            "padding": null,
            "right": null,
            "top": null,
            "visibility": null,
            "width": null
          }
        },
        "6fd93097f2df41f291c594ef6e0daf78": {
          "model_module": "@jupyter-widgets/controls",
          "model_module_version": "1.5.0",
          "model_name": "IntSliderModel",
          "state": {
            "_dom_classes": [],
            "_model_module": "@jupyter-widgets/controls",
            "_model_module_version": "1.5.0",
            "_model_name": "IntSliderModel",
            "_view_count": null,
            "_view_module": "@jupyter-widgets/controls",
            "_view_module_version": "1.5.0",
            "_view_name": "IntSliderView",
            "continuous_update": true,
            "description": "step",
            "description_tooltip": null,
            "disabled": false,
            "layout": "IPY_MODEL_60bf3201337146fa80d609acf489e46a",
            "max": 9,
            "min": 0,
            "orientation": "horizontal",
            "readout": true,
            "readout_format": "d",
            "step": 1,
            "style": "IPY_MODEL_80b0792974074b8298938c4c2a16f45e",
            "value": 0
          }
        },
        "80b0792974074b8298938c4c2a16f45e": {
          "model_module": "@jupyter-widgets/controls",
          "model_module_version": "1.5.0",
          "model_name": "SliderStyleModel",
          "state": {
            "_model_module": "@jupyter-widgets/controls",
            "_model_module_version": "1.5.0",
            "_model_name": "SliderStyleModel",
            "_view_count": null,
            "_view_module": "@jupyter-widgets/base",
            "_view_module_version": "1.2.0",
            "_view_name": "StyleView",
            "description_width": "",
            "handle_color": null
          }
        },
        "8babc5f63cea48caa809b10bae10ec76": {
          "model_module": "@jupyter-widgets/base",
          "model_module_version": "1.2.0",
          "model_name": "LayoutModel",
          "state": {
            "_model_module": "@jupyter-widgets/base",
            "_model_module_version": "1.2.0",
            "_model_name": "LayoutModel",
            "_view_count": null,
            "_view_module": "@jupyter-widgets/base",
            "_view_module_version": "1.2.0",
            "_view_name": "LayoutView",
            "align_content": null,
            "align_items": null,
            "align_self": null,
            "border": null,
            "bottom": null,
            "display": null,
            "flex": null,
            "flex_flow": null,
            "grid_area": null,
            "grid_auto_columns": null,
            "grid_auto_flow": null,
            "grid_auto_rows": null,
            "grid_column": null,
            "grid_gap": null,
            "grid_row": null,
            "grid_template_areas": null,
            "grid_template_columns": null,
            "grid_template_rows": null,
            "height": null,
            "justify_content": null,
            "justify_items": null,
            "left": null,
            "margin": null,
            "max_height": null,
            "max_width": null,
            "min_height": null,
            "min_width": null,
            "object_fit": null,
            "object_position": null,
            "order": null,
            "overflow": null,
            "overflow_x": null,
            "overflow_y": null,
            "padding": null,
            "right": null,
            "top": null,
            "visibility": null,
            "width": null
          }
        },
        "9aa94fcb58b64e7cb0de8815a42302e4": {
          "model_module": "@jupyter-widgets/controls",
          "model_module_version": "1.5.0",
          "model_name": "VBoxModel",
          "state": {
            "_dom_classes": [
              "widget-interact"
            ],
            "_model_module": "@jupyter-widgets/controls",
            "_model_module_version": "1.5.0",
            "_model_name": "VBoxModel",
            "_view_count": null,
            "_view_module": "@jupyter-widgets/controls",
            "_view_module_version": "1.5.0",
            "_view_name": "VBoxView",
            "box_style": "",
            "children": [
              "IPY_MODEL_6fd93097f2df41f291c594ef6e0daf78",
              "IPY_MODEL_c00ccb2193974e11bfce3b0686ab9a29"
            ],
            "layout": "IPY_MODEL_d9e515badd1d4107a6d039d04a9388f5"
          }
        },
        "c00ccb2193974e11bfce3b0686ab9a29": {
          "model_module": "@jupyter-widgets/output",
          "model_module_version": "1.0.0",
          "model_name": "OutputModel",
          "state": {
            "_dom_classes": [],
            "_model_module": "@jupyter-widgets/output",
            "_model_module_version": "1.0.0",
            "_model_name": "OutputModel",
            "_view_count": null,
            "_view_module": "@jupyter-widgets/output",
            "_view_module_version": "1.0.0",
            "_view_name": "OutputView",
            "layout": "IPY_MODEL_8babc5f63cea48caa809b10bae10ec76",
            "msg_id": "",
            "outputs": [
              {
                "data": {
                  "image/png": "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\n",
                  "text/plain": "<Figure size 640x480 with 1 Axes>"
                },
                "metadata": {},
                "output_type": "display_data"
              }
            ]
          }
        },
        "d9e515badd1d4107a6d039d04a9388f5": {
          "model_module": "@jupyter-widgets/base",
          "model_module_version": "1.2.0",
          "model_name": "LayoutModel",
          "state": {
            "_model_module": "@jupyter-widgets/base",
            "_model_module_version": "1.2.0",
            "_model_name": "LayoutModel",
            "_view_count": null,
            "_view_module": "@jupyter-widgets/base",
            "_view_module_version": "1.2.0",
            "_view_name": "LayoutView",
            "align_content": null,
            "align_items": null,
            "align_self": null,
            "border": null,
            "bottom": null,
            "display": null,
            "flex": null,
            "flex_flow": null,
            "grid_area": null,
            "grid_auto_columns": null,
            "grid_auto_flow": null,
            "grid_auto_rows": null,
            "grid_column": null,
            "grid_gap": null,
            "grid_row": null,
            "grid_template_areas": null,
            "grid_template_columns": null,
            "grid_template_rows": null,
            "height": null,
            "justify_content": null,
            "justify_items": null,
            "left": null,
            "margin": null,
            "max_height": null,
            "max_width": null,
            "min_height": null,
            "min_width": null,
            "object_fit": null,
            "object_position": null,
            "order": null,
            "overflow": null,
            "overflow_x": null,
            "overflow_y": null,
            "padding": null,
            "right": null,
            "top": null,
            "visibility": null,
            "width": null
          }
        }
      }
    }
  },
  "nbformat": 4,
  "nbformat_minor": 0
}
