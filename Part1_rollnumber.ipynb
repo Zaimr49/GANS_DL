{
  "cells": [
    {
      "cell_type": "markdown",
      "metadata": {
        "id": "aZ998sgcaAlB"
      },
      "source": [
        "# PA4.1 GANs and Latent space interpolation (35 marks)\n",
        "\n",
        " This part of the assignment involves implementing a Generative Adversarial Network (GAN) to work with the MNIST dataset, which is readily available in the torchvision package. You'll be tasked with training your GAN to generate images that resemble the handwritten digits from MNIST.\n",
        "\n",
        "After your GAN is trained and able to generate images, the next step is to explore latent space interpolation between two images. This means you'll learn how to transition smoothly from one digit to another by navigating through the GAN's latent space, a technique that demonstrates the model's ability to understand and manipulate the underlying features of the digits.\n",
        "\n",
        "Once thats done you will be asked to generate a few images of your own, and then do some mathematical operations with them in the latent space and see what sort of output you can come up with. sounds simple enough right?\n",
        "\n",
        "[All code blocks should already have been run and the outputs should be visible in order to be graded]"
      ]
    },
    {
      "cell_type": "markdown",
      "metadata": {},
      "source": [
        "Roll number: 25100261"
      ]
    },
    {
      "cell_type": "markdown",
      "metadata": {
        "id": "oqx5Zdf8aAlC"
      },
      "source": [
        "# Imports"
      ]
    },
    {
      "cell_type": "markdown",
      "metadata": {},
      "source": [
        "Do not include extra imports, you should be able to complete this assignment with the following imports only."
      ]
    },
    {
      "cell_type": "code",
      "execution_count": 1,
      "metadata": {
        "id": "t83_7r64W7eA"
      },
      "outputs": [
        {
          "name": "stderr",
          "output_type": "stream",
          "text": [
            "/Users/zaeemr49/Library/Python/3.9/lib/python/site-packages/urllib3/__init__.py:34: NotOpenSSLWarning: urllib3 v2 only supports OpenSSL 1.1.1+, currently the 'ssl' module is compiled with 'LibreSSL 2.8.3'. See: https://github.com/urllib3/urllib3/issues/3020\n",
            "  warnings.warn(\n"
          ]
        }
      ],
      "source": [
        "import torch\n",
        "import torch.nn as nn\n",
        "import torch.optim as optim\n",
        "from torchvision import datasets, transforms\n",
        "from torch.utils.data import DataLoader\n",
        "import matplotlib.pyplot as plt\n",
        "import numpy as np\n",
        "\n",
        "transform = transforms.Compose([\n",
        "                transforms.ToTensor(),\n",
        "                transforms.Normalize(mean=[0.5], std=[0.5])])\n",
        "\n"
      ]
    },
    {
      "cell_type": "markdown",
      "metadata": {
        "id": "-Q-yPIspaAlE"
      },
      "source": [
        "# MNIST dataset loading (3 marks)"
      ]
    },
    {
      "cell_type": "markdown",
      "metadata": {},
      "source": [
        "Lets start by actually loading the mnist dataset and visualizing some of the images, dont foget to transform the images to the right size and tensor :) and normalize them. "
      ]
    },
    {
      "cell_type": "code",
      "execution_count": 2,
      "metadata": {
        "colab": {
          "base_uri": "https://localhost:8080/"
        },
        "id": "qg04dFSwW_kh",
        "outputId": "4afb2240-8fa9-4659-b5c8-656894777ab4"
      },
      "outputs": [],
      "source": [
        "#make sue of the Dataloaeer to load the data\n",
        "mnist_train = datasets.MNIST(root=\"./data\", train=True, download=True, transform=transform)\n",
        "batch_size = 64  # You can adjust the batch size as needed\n",
        "train_loader = DataLoader(mnist_train, batch_size=batch_size, shuffle=True)"
      ]
    },
    {
      "cell_type": "code",
      "execution_count": 3,
      "metadata": {},
      "outputs": [
        {
          "data": {
            "image/png": "[encoded data removed]",
            "text/plain": [
              "<Figure size 640x480 with 1 Axes>"
            ]
          },
          "metadata": {},
          "output_type": "display_data"
        },
        {
          "name": "stdout",
          "output_type": "stream",
          "text": [
            "7 9 3 0\n"
          ]
        }
      ],
      "source": [
        "import torchvision.utils as utils\n",
        "# Visualize the MNIST Dataset\n",
        "def imshow(img):\n",
        "    img = img / 2 + 0.5     # unnormalize\n",
        "    npimg = img.numpy()\n",
        "    plt.imshow(np.transpose(npimg, (1, 2, 0)))\n",
        "    plt.show()\n",
        "\n",
        "# Get some random training images\n",
        "dataiter = iter(train_loader)\n",
        "images, labels = next(dataiter)\n",
        "\n",
        "# Show images\n",
        "imshow(utils.make_grid(images[:4]))\n",
        "# Print labels\n",
        "print(' '.join(f'{labels[j]}' for j in range(4)))\n",
        " "
      ]
    },
    {
      "cell_type": "markdown",
      "metadata": {
        "id": "oUj6dfEZaAlF"
      },
      "source": [
        "# Generator and Discriminator (10 marks)"
      ]
    },
    {
      "cell_type": "markdown",
      "metadata": {},
      "source": [
        "Next lets set up the main charecters of our GAN, the generator and the discriminator. Starting of with the generator, feel free to use, whatever sort of architecture you feel suits you, just make sure to use the right activation functions and normalization layers, and that both the generator and the discriminator are able to work with the right size of images.\n",
        "\n",
        "Feel free to reshape the tensor before passing it through the model, u may explicitly need to do this in atleast one of the models. "
      ]
    },
    {
      "cell_type": "code",
      "execution_count": 4,
      "metadata": {
        "id": "-bO03K8iXFTi"
      },
      "outputs": [],
      "source": [
        "# # Code the Generator Model here\n",
        "# class Generator(nn.Module):\n",
        "#     def __init__(self, latent_dim, img_shape):\n",
        "#         super(Generator, self).__init__()\n",
        "\n",
        "#         self.model = nn.Sequential(\n",
        "#             nn.Linear(latent_dim, 128),\n",
        "#             nn.BatchNorm1d(128),\n",
        "#             nn.ReLU(),\n",
        "#             nn.Linear(128, 256),\n",
        "#             nn.BatchNorm1d(256),\n",
        "#             nn.ReLU(),\n",
        "#             nn.Linear(256, 512),\n",
        "#             nn.BatchNorm1d(512),\n",
        "#             nn.ReLU(),\n",
        "#             nn.Linear(512, img_shape),\n",
        "#             nn.Tanh()  # Tanh activation function for generating images in [-1, 1]\n",
        "#         )\n",
        "\n",
        "#     def forward(self, x):\n",
        "#         return self.model(x)\n",
        "\n",
        "# # class Generator(nn.Module):\n",
        "# #     def __init__(self, latent_dim, img_shape):\n",
        "# #         super(Generator, self).__init__()\n",
        "\n",
        "# #         self.model = nn.Sequential(\n",
        "# #             nn.Linear(latent_dim, 32),\n",
        "# #             nn.BatchNorm1d(32),\n",
        "# #             nn.LeakyReLU(0.2),\n",
        "# #             nn.Linear(32, 64),\n",
        "# #             nn.BatchNorm1d(64),\n",
        "# #             nn.LeakyReLU(0.2),\n",
        "# #             nn.Linear(64, 128),\n",
        "# #             nn.BatchNorm1d(128),\n",
        "# #             nn.LeakyReLU(0.2),\n",
        "# #             nn.Linear(128, img_shape),\n",
        "# #             # nn.Dropout(0.3),\n",
        "# #             nn.Tanh()\n",
        "# #         )\n",
        "\n",
        "# #     def forward(self, x):\n",
        "# #         return self.model(x)\n",
        "class Generator(nn.Module):\n",
        "    def __init__(self, latent_dim):\n",
        "        super(Generator, self).__init__()\n",
        "        \n",
        "        self.init_size = 7  # Initial size before upscaling\n",
        "        self.l1 = nn.Sequential(nn.Linear(latent_dim, 128 * self.init_size ** 2))\n",
        "\n",
        "        self.conv_blocks = nn.Sequential(\n",
        "            nn.BatchNorm2d(128),\n",
        "            nn.Upsample(scale_factor=2),\n",
        "            nn.Conv2d(128, 128, 3, stride=1, padding=1),\n",
        "            nn.BatchNorm2d(128, 0.8),\n",
        "            nn.LeakyReLU(0.2, inplace=True),\n",
        "            nn.Upsample(scale_factor=2),\n",
        "            nn.Conv2d(128, 64, 3, stride=1, padding=1),\n",
        "            nn.BatchNorm2d(64, 0.8),\n",
        "            nn.LeakyReLU(0.2, inplace=True),\n",
        "            nn.Conv2d(64, 1, 3, stride=1, padding=1),\n",
        "            nn.Tanh(),\n",
        "        )\n",
        "\n",
        "    def forward(self, z):\n",
        "        out = self.l1(z)\n",
        "        out = out.view(out.shape[0], 128, self.init_size, self.init_size)\n",
        "        img = self.conv_blocks(out)\n",
        "        return img\n"
      ]
    },
    {
      "cell_type": "code",
      "execution_count": 5,
      "metadata": {
        "id": "UgAMha2cXHQ1"
      },
      "outputs": [],
      "source": [
        "# # Code the Discriminator Model here\n",
        "# class Discriminator(nn.Module):\n",
        "#     def __init__(self, img_shape):\n",
        "#         super(Discriminator, self).__init__()\n",
        "\n",
        "#         self.model = nn.Sequential(\n",
        "#             nn.Linear(img_shape, 512),\n",
        "#             nn.LeakyReLU(0.2),\n",
        "#             nn.Linear(512, 256),\n",
        "#             nn.LeakyReLU(0.2),\n",
        "#             nn.Linear(256, 1),\n",
        "#             nn.Sigmoid()  # Sigmoid activation function for binary classification\n",
        "#         )\n",
        "\n",
        "#     def forward(self, x):\n",
        "#         return self.model(x)\n",
        "# # class Discriminator(nn.Module):\n",
        "# #     def __init__(self, img_shape):\n",
        "# #         super(Discriminator, self).__init__()\n",
        "\n",
        "# #         self.model = nn.Sequential(\n",
        "# #             nn.Linear(img_shape, 128),\n",
        "# #             nn.LeakyReLU(0.2),\n",
        "# #             nn.Dropout(0.3),  # Adding dropout for regularization\n",
        "# #             nn.Linear(128, 64),\n",
        "# #             nn.BatchNorm1d(64),\n",
        "# #             nn.LeakyReLU(0.2),\n",
        "# #             nn.Dropout(0.3),  # Adding dropout for regularization\n",
        "# #             nn.Linear(64, 32),\n",
        "# #             nn.BatchNorm1d(32),\n",
        "# #             nn.LeakyReLU(0.2),\n",
        "# #             nn.Dropout(0.3),  # Adding dropout for regularization\n",
        "# #             nn.Linear(32, 1),\n",
        "# #             nn.Sigmoid()\n",
        "# #         )\n",
        "\n",
        "# #     def forward(self, x):\n",
        "# #         return self.model(x)\n",
        "class Discriminator(nn.Module):\n",
        "    def __init__(self):\n",
        "        super(Discriminator, self).__init__()\n",
        "\n",
        "        self.model = nn.Sequential(\n",
        "            nn.Conv2d(1, 64, 3, stride=2, padding=1),\n",
        "            nn.LeakyReLU(0.2, inplace=True),\n",
        "            nn.Dropout2d(0.25),\n",
        "            nn.Conv2d(64, 128, 3, stride=2, padding=1),\n",
        "            nn.ZeroPad2d((0, 1, 0, 1)),\n",
        "            nn.BatchNorm2d(128, 0.8),\n",
        "            nn.LeakyReLU(0.2, inplace=True),\n",
        "            nn.Dropout2d(0.25),\n",
        "            nn.Conv2d(128, 256, 3, stride=2, padding=1),\n",
        "            nn.BatchNorm2d(256, 0.8),\n",
        "            nn.LeakyReLU(0.2, inplace=True),\n",
        "            nn.Dropout2d(0.25),\n",
        "            nn.Conv2d(256, 512, 3, stride=1, padding=1),\n",
        "            nn.BatchNorm2d(512, 0.8),\n",
        "            nn.LeakyReLU(0.2, inplace=True),\n",
        "            nn.Dropout2d(0.25),\n",
        "            nn.Flatten(),\n",
        "            nn.Linear(512*4*4, 1),\n",
        "            nn.Sigmoid(),\n",
        "        )\n",
        "\n",
        "    def forward(self, img):\n",
        "        validity = self.model(img)\n",
        "        return validity\n"
      ]
    },
    {
      "cell_type": "code",
      "execution_count": 6,
      "metadata": {
        "id": "A-nszA7iXMX5"
      },
      "outputs": [],
      "source": [
        "latent_dim = 100  # Dimensionality of the latent space\n",
        "img_shape = 28*28  # Shape of the generated images (assuming MNIST-like images)\n",
        "\n",
        "# create instances of the Generator and Discriminator\n",
        "# generator = Generator(latent_dim, img_shape)\n",
        "# discriminator = Discriminator(img_shape)\n",
        "# Instantiate the Generator\n",
        "generator = Generator(latent_dim)\n",
        "\n",
        "# Instantiate the Discriminator\n",
        "discriminator = Discriminator()\n"
      ]
    },
    {
      "cell_type": "code",
      "execution_count": 7,
      "metadata": {},
      "outputs": [
        {
          "name": "stdout",
          "output_type": "stream",
          "text": [
            "Generator(\n",
            "  (l1): Sequential(\n",
            "    (0): Linear(in_features=100, out_features=6272, bias=True)\n",
            "  )\n",
            "  (conv_blocks): Sequential(\n",
            "    (0): BatchNorm2d(128, eps=1e-05, momentum=0.1, affine=True, track_running_stats=True)\n",
            "    (1): Upsample(scale_factor=2.0, mode='nearest')\n",
            "    (2): Conv2d(128, 128, kernel_size=(3, 3), stride=(1, 1), padding=(1, 1))\n",
            "    (3): BatchNorm2d(128, eps=0.8, momentum=0.1, affine=True, track_running_stats=True)\n",
            "    (4): LeakyReLU(negative_slope=0.2, inplace=True)\n",
            "    (5): Upsample(scale_factor=2.0, mode='nearest')\n",
            "    (6): Conv2d(128, 64, kernel_size=(3, 3), stride=(1, 1), padding=(1, 1))\n",
            "    (7): BatchNorm2d(64, eps=0.8, momentum=0.1, affine=True, track_running_stats=True)\n",
            "    (8): LeakyReLU(negative_slope=0.2, inplace=True)\n",
            "    (9): Conv2d(64, 1, kernel_size=(3, 3), stride=(1, 1), padding=(1, 1))\n",
            "    (10): Tanh()\n",
            "  )\n",
            ")\n",
            "Discriminator(\n",
            "  (model): Sequential(\n",
            "    (0): Conv2d(1, 64, kernel_size=(3, 3), stride=(2, 2), padding=(1, 1))\n",
            "    (1): LeakyReLU(negative_slope=0.2, inplace=True)\n",
            "    (2): Dropout2d(p=0.25, inplace=False)\n",
            "    (3): Conv2d(64, 128, kernel_size=(3, 3), stride=(2, 2), padding=(1, 1))\n",
            "    (4): ZeroPad2d((0, 1, 0, 1))\n",
            "    (5): BatchNorm2d(128, eps=0.8, momentum=0.1, affine=True, track_running_stats=True)\n",
            "    (6): LeakyReLU(negative_slope=0.2, inplace=True)\n",
            "    (7): Dropout2d(p=0.25, inplace=False)\n",
            "    (8): Conv2d(128, 256, kernel_size=(3, 3), stride=(2, 2), padding=(1, 1))\n",
            "    (9): BatchNorm2d(256, eps=0.8, momentum=0.1, affine=True, track_running_stats=True)\n",
            "    (10): LeakyReLU(negative_slope=0.2, inplace=True)\n",
            "    (11): Dropout2d(p=0.25, inplace=False)\n",
            "    (12): Conv2d(256, 512, kernel_size=(3, 3), stride=(1, 1), padding=(1, 1))\n",
            "    (13): BatchNorm2d(512, eps=0.8, momentum=0.1, affine=True, track_running_stats=True)\n",
            "    (14): LeakyReLU(negative_slope=0.2, inplace=True)\n",
            "    (15): Dropout2d(p=0.25, inplace=False)\n",
            "    (16): Flatten(start_dim=1, end_dim=-1)\n",
            "    (17): Linear(in_features=8192, out_features=1, bias=True)\n",
            "    (18): Sigmoid()\n",
            "  )\n",
            ")\n"
          ]
        }
      ],
      "source": [
        "# Print out the models for inspection\n",
        "print(generator)\n",
        "print(discriminator)"
      ]
    },
    {
      "cell_type": "markdown",
      "metadata": {
        "id": "bC01vCuNaAlG"
      },
      "source": [
        "# Loss and optimizers"
      ]
    },
    {
      "cell_type": "markdown",
      "metadata": {},
      "source": [
        "Just like that, were done with the models, now lets set up the loss function and the optimizers for both the models.\n",
        "For the the timme being do not change them, the given models are pretty standard, and conventional for image gen via GANs.\n",
        "\n",
        "Other parameters however, you can change, and experiment with, such as the Epochs for example, feel free to experiment with these, and see what works best for you."
      ]
    },
    {
      "cell_type": "code",
      "execution_count": 8,
      "metadata": {
        "id": "zgodGIc4XPRY"
      },
      "outputs": [],
      "source": [
        "# Loss and Optimizers\n",
        "criterion = nn.BCELoss()\n",
        "optimizer_g = optim.Adam(generator.parameters(), lr=0.0002)\n",
        "optimizer_d = optim.Adam(discriminator.parameters(), lr=0.0002)"
      ]
    },
    {
      "cell_type": "markdown",
      "metadata": {
        "id": "EpP_3JfBaAlG"
      },
      "source": [
        "# Training loop (5 marks)"
      ]
    },
    {
      "cell_type": "markdown",
      "metadata": {},
      "source": [
        "Now we have to load the data (preprocess it or do some image augmentation if you need) and train the model. \n",
        "\n",
        "Lets have brief look at how the loop for a vanilla GAN looks like, and then you can implement it yourself.\n",
        "\n",
        "Each epoch involves a couple of steps:\n",
        "1. Prep some data both fake and real\n",
        "2. Train the discriminator with some real data\n",
        "3. Train the discriminator with some fake data\n",
        "3. Train the generator\n",
        "\n",
        "The rest of its pretty similar to pytorch training loops, similar to the ones youve done in previous assingments."
      ]
    },
    {
      "cell_type": "code",
      "execution_count": 9,
      "metadata": {
        "colab": {
          "base_uri": "https://localhost:8080/"
        },
        "id": "VNkBGJnALBLV",
        "outputId": "188c9923-95e7-4611-f85a-9dc6a438c2c5"
      },
      "outputs": [
        {
          "name": "stdout",
          "output_type": "stream",
          "text": [
            "Epoch [0/10], Step [0/938], Discriminator Loss: 1.3843, Generator Loss: 0.6871\n",
            "Epoch [0/10], Step [100/938], Discriminator Loss: 0.8373, Generator Loss: 2.0481\n",
            "Epoch [0/10], Step [200/938], Discriminator Loss: 1.6698, Generator Loss: 0.9690\n",
            "Epoch [0/10], Step [300/938], Discriminator Loss: 0.7215, Generator Loss: 2.2869\n",
            "Epoch [0/10], Step [400/938], Discriminator Loss: 0.2237, Generator Loss: 2.5776\n",
            "Epoch [0/10], Step [500/938], Discriminator Loss: 1.2780, Generator Loss: 1.0880\n",
            "Epoch [0/10], Step [600/938], Discriminator Loss: 1.1557, Generator Loss: 2.0344\n",
            "Epoch [0/10], Step [700/938], Discriminator Loss: 1.5214, Generator Loss: 2.0098\n",
            "Epoch [0/10], Step [800/938], Discriminator Loss: 0.1589, Generator Loss: 3.1790\n",
            "Epoch [0/10], Step [900/938], Discriminator Loss: 0.9152, Generator Loss: 1.5348\n",
            "Epoch [1/10], Step [0/938], Discriminator Loss: 0.2150, Generator Loss: 3.9619\n",
            "Epoch [1/10], Step [100/938], Discriminator Loss: 0.4751, Generator Loss: 2.1639\n",
            "Epoch [1/10], Step [200/938], Discriminator Loss: 0.6256, Generator Loss: 2.3478\n",
            "Epoch [1/10], Step [300/938], Discriminator Loss: 0.5520, Generator Loss: 2.2106\n",
            "Epoch [1/10], Step [400/938], Discriminator Loss: 1.2192, Generator Loss: 2.4911\n",
            "Epoch [1/10], Step [500/938], Discriminator Loss: 0.2669, Generator Loss: 2.9332\n",
            "Epoch [1/10], Step [600/938], Discriminator Loss: 0.8811, Generator Loss: 2.1087\n",
            "Epoch [1/10], Step [700/938], Discriminator Loss: 0.1841, Generator Loss: 3.3286\n",
            "Epoch [1/10], Step [800/938], Discriminator Loss: 0.4924, Generator Loss: 1.5714\n",
            "Epoch [1/10], Step [900/938], Discriminator Loss: 0.6374, Generator Loss: 2.1933\n",
            "Epoch [2/10], Step [0/938], Discriminator Loss: 0.2079, Generator Loss: 3.4825\n",
            "Epoch [2/10], Step [100/938], Discriminator Loss: 0.1660, Generator Loss: 3.8185\n",
            "Epoch [2/10], Step [200/938], Discriminator Loss: 0.2497, Generator Loss: 3.4319\n",
            "Epoch [2/10], Step [300/938], Discriminator Loss: 0.6581, Generator Loss: 2.8726\n",
            "Epoch [2/10], Step [400/938], Discriminator Loss: 0.6912, Generator Loss: 3.6247\n",
            "Epoch [2/10], Step [500/938], Discriminator Loss: 0.4207, Generator Loss: 4.6938\n",
            "Epoch [2/10], Step [600/938], Discriminator Loss: 0.2712, Generator Loss: 3.9711\n",
            "Epoch [2/10], Step [700/938], Discriminator Loss: 1.2647, Generator Loss: 1.5277\n",
            "Epoch [2/10], Step [800/938], Discriminator Loss: 0.4236, Generator Loss: 4.3368\n",
            "Epoch [2/10], Step [900/938], Discriminator Loss: 0.2316, Generator Loss: 2.7982\n",
            "Epoch [3/10], Step [0/938], Discriminator Loss: 0.9885, Generator Loss: 2.9033\n",
            "Epoch [3/10], Step [100/938], Discriminator Loss: 0.4209, Generator Loss: 3.7331\n",
            "Epoch [3/10], Step [200/938], Discriminator Loss: 0.5847, Generator Loss: 1.7578\n",
            "Epoch [3/10], Step [300/938], Discriminator Loss: 0.3151, Generator Loss: 3.1029\n",
            "Epoch [3/10], Step [400/938], Discriminator Loss: 0.2398, Generator Loss: 3.2112\n",
            "Epoch [3/10], Step [500/938], Discriminator Loss: 0.1986, Generator Loss: 2.0081\n",
            "Epoch [3/10], Step [600/938], Discriminator Loss: 0.1106, Generator Loss: 3.5510\n",
            "Epoch [3/10], Step [700/938], Discriminator Loss: 0.1758, Generator Loss: 3.0186\n",
            "Epoch [3/10], Step [800/938], Discriminator Loss: 1.8945, Generator Loss: 5.3395\n",
            "Epoch [3/10], Step [900/938], Discriminator Loss: 0.3052, Generator Loss: 2.3775\n",
            "Epoch [4/10], Step [0/938], Discriminator Loss: 0.2216, Generator Loss: 2.9380\n",
            "Epoch [4/10], Step [100/938], Discriminator Loss: 1.1115, Generator Loss: 2.0212\n",
            "Epoch [4/10], Step [200/938], Discriminator Loss: 0.4370, Generator Loss: 2.4168\n",
            "Epoch [4/10], Step [300/938], Discriminator Loss: 0.5186, Generator Loss: 2.1008\n",
            "Epoch [4/10], Step [400/938], Discriminator Loss: 0.1975, Generator Loss: 4.4179\n",
            "Epoch [4/10], Step [500/938], Discriminator Loss: 0.7900, Generator Loss: 1.9403\n",
            "Epoch [4/10], Step [600/938], Discriminator Loss: 0.1331, Generator Loss: 4.6469\n",
            "Epoch [4/10], Step [700/938], Discriminator Loss: 0.2198, Generator Loss: 3.7235\n",
            "Epoch [4/10], Step [800/938], Discriminator Loss: 1.2592, Generator Loss: 6.0603\n",
            "Epoch [4/10], Step [900/938], Discriminator Loss: 1.4103, Generator Loss: 5.0373\n",
            "Epoch [5/10], Step [0/938], Discriminator Loss: 0.3703, Generator Loss: 2.8345\n",
            "Epoch [5/10], Step [100/938], Discriminator Loss: 0.1524, Generator Loss: 2.8776\n",
            "Epoch [5/10], Step [200/938], Discriminator Loss: 0.6874, Generator Loss: 3.0045\n",
            "Epoch [5/10], Step [300/938], Discriminator Loss: 0.2226, Generator Loss: 4.0530\n",
            "Epoch [5/10], Step [400/938], Discriminator Loss: 0.5693, Generator Loss: 2.3759\n",
            "Epoch [5/10], Step [500/938], Discriminator Loss: 0.2484, Generator Loss: 1.8417\n",
            "Epoch [5/10], Step [600/938], Discriminator Loss: 0.4694, Generator Loss: 4.3253\n",
            "Epoch [5/10], Step [700/938], Discriminator Loss: 0.2194, Generator Loss: 3.1769\n",
            "Epoch [5/10], Step [800/938], Discriminator Loss: 2.1117, Generator Loss: 3.7395\n",
            "Epoch [5/10], Step [900/938], Discriminator Loss: 0.3103, Generator Loss: 3.5319\n",
            "Epoch [6/10], Step [0/938], Discriminator Loss: 0.1924, Generator Loss: 2.7342\n",
            "Epoch [6/10], Step [100/938], Discriminator Loss: 0.2382, Generator Loss: 3.5571\n",
            "Epoch [6/10], Step [200/938], Discriminator Loss: 0.1583, Generator Loss: 3.5361\n",
            "Epoch [6/10], Step [300/938], Discriminator Loss: 0.4288, Generator Loss: 6.4753\n",
            "Epoch [6/10], Step [400/938], Discriminator Loss: 0.6736, Generator Loss: 4.1321\n",
            "Epoch [6/10], Step [500/938], Discriminator Loss: 0.6430, Generator Loss: 2.5855\n",
            "Epoch [6/10], Step [600/938], Discriminator Loss: 0.3811, Generator Loss: 4.6079\n",
            "Epoch [6/10], Step [700/938], Discriminator Loss: 0.2460, Generator Loss: 2.6274\n",
            "Epoch [6/10], Step [800/938], Discriminator Loss: 0.5754, Generator Loss: 6.6595\n",
            "Epoch [6/10], Step [900/938], Discriminator Loss: 0.7168, Generator Loss: 2.5045\n",
            "Epoch [7/10], Step [0/938], Discriminator Loss: 0.1509, Generator Loss: 4.9689\n",
            "Epoch [7/10], Step [100/938], Discriminator Loss: 0.3869, Generator Loss: 1.5801\n",
            "Epoch [7/10], Step [200/938], Discriminator Loss: 0.2077, Generator Loss: 5.3947\n",
            "Epoch [7/10], Step [300/938], Discriminator Loss: 0.1958, Generator Loss: 3.4601\n",
            "Epoch [7/10], Step [400/938], Discriminator Loss: 0.1382, Generator Loss: 4.7702\n",
            "Epoch [7/10], Step [500/938], Discriminator Loss: 0.1171, Generator Loss: 6.3640\n",
            "Epoch [7/10], Step [600/938], Discriminator Loss: 0.2651, Generator Loss: 6.5394\n",
            "Epoch [7/10], Step [700/938], Discriminator Loss: 0.2141, Generator Loss: 5.5569\n",
            "Epoch [7/10], Step [800/938], Discriminator Loss: 0.3645, Generator Loss: 1.6483\n",
            "Epoch [7/10], Step [900/938], Discriminator Loss: 0.0232, Generator Loss: 6.2573\n",
            "Epoch [8/10], Step [0/938], Discriminator Loss: 0.1907, Generator Loss: 2.1731\n",
            "Epoch [8/10], Step [100/938], Discriminator Loss: 0.2294, Generator Loss: 2.2453\n",
            "Epoch [8/10], Step [200/938], Discriminator Loss: 0.0269, Generator Loss: 5.4928\n",
            "Epoch [8/10], Step [300/938], Discriminator Loss: 0.2627, Generator Loss: 6.6106\n",
            "Epoch [8/10], Step [400/938], Discriminator Loss: 0.0915, Generator Loss: 5.6276\n",
            "Epoch [8/10], Step [500/938], Discriminator Loss: 0.4541, Generator Loss: 3.3418\n",
            "Epoch [8/10], Step [600/938], Discriminator Loss: 0.1585, Generator Loss: 5.4103\n",
            "Epoch [8/10], Step [700/938], Discriminator Loss: 0.3206, Generator Loss: 4.6695\n",
            "Epoch [8/10], Step [800/938], Discriminator Loss: 0.8874, Generator Loss: 3.3547\n",
            "Epoch [8/10], Step [900/938], Discriminator Loss: 0.5519, Generator Loss: 2.0235\n",
            "Epoch [9/10], Step [0/938], Discriminator Loss: 2.4367, Generator Loss: 4.3680\n",
            "Epoch [9/10], Step [100/938], Discriminator Loss: 0.4449, Generator Loss: 4.9373\n",
            "Epoch [9/10], Step [200/938], Discriminator Loss: 0.2714, Generator Loss: 1.6277\n",
            "Epoch [9/10], Step [300/938], Discriminator Loss: 0.1332, Generator Loss: 4.1483\n",
            "Epoch [9/10], Step [400/938], Discriminator Loss: 0.4436, Generator Loss: 1.8857\n",
            "Epoch [9/10], Step [500/938], Discriminator Loss: 0.1420, Generator Loss: 5.3641\n",
            "Epoch [9/10], Step [600/938], Discriminator Loss: 0.2813, Generator Loss: 3.8902\n",
            "Epoch [9/10], Step [700/938], Discriminator Loss: 1.1501, Generator Loss: 0.2781\n",
            "Epoch [9/10], Step [800/938], Discriminator Loss: 0.0993, Generator Loss: 1.8912\n",
            "Epoch [9/10], Step [900/938], Discriminator Loss: 0.3042, Generator Loss: 0.9954\n"
          ]
        }
      ],
      "source": [
        "# num_epochs = 100\n",
        "\n",
        "# # Training Loop\n",
        "\n",
        "# for epoch in range(num_epochs):\n",
        "#     for i, (real_images, _) in enumerate(train_loader):\n",
        "#         batch_size = real_images.size(0)\n",
        "#         real_labels = torch.ones(batch_size, 1)\n",
        "#         fake_labels = torch.zeros(batch_size, 1)\n",
        "\n",
        "#         # Train Discriminator with real images\n",
        "#         discriminator.zero_grad()\n",
        "#         real_images = real_images.view(batch_size, -1)\n",
        "#         real_output = discriminator(real_images)\n",
        "#         d_loss_real = criterion(real_output, real_labels)\n",
        "#         d_loss_real.backward()\n",
        "\n",
        "#         # Train Discriminator with fake images\n",
        "#         z = torch.randn(batch_size, latent_dim)\n",
        "#         fake_images = generator(z)\n",
        "#         fake_output = discriminator(fake_images.detach())\n",
        "#         d_loss_fake = criterion(fake_output, fake_labels)\n",
        "#         d_loss_fake.backward()\n",
        "#         optimizer_d.step()\n",
        "\n",
        "#         # Train Generator\n",
        "#         generator.zero_grad()\n",
        "#         fake_output = discriminator(fake_images)\n",
        "#         g_loss = criterion(fake_output, real_labels)\n",
        "#         g_loss.backward()\n",
        "#         optimizer_g.step()\n",
        "\n",
        "#         if i % 100 == 0:\n",
        "#             print(\n",
        "#                 f\"Epoch [{epoch}/{num_epochs}], Step [{i}/{len(train_loader)}], \"\n",
        "#                 f\"Discriminator Loss: {(d_loss_real + d_loss_fake).item():.4f}, \"\n",
        "#                 f\"Generator Loss: {g_loss.item():.4f}\"\n",
        "#             )\n",
        "\n",
        "# # Save the trained models\n",
        "# torch.save(generator.state_dict(), 'generator.pth')\n",
        "# torch.save(discriminator.state_dict(), 'discriminator.pth')\n",
        "num_epochs = 10\n",
        "\n",
        "# Training Loop\n",
        "for epoch in range(num_epochs):\n",
        "    for i, (real_images, _) in enumerate(train_loader):\n",
        "        batch_size = real_images.size(0)\n",
        "        real_labels = torch.ones(batch_size, 1)\n",
        "        fake_labels = torch.zeros(batch_size, 1)\n",
        "\n",
        "        # Train Discriminator with real images\n",
        "        discriminator.zero_grad()\n",
        "        real_images = real_images\n",
        "        real_output = discriminator(real_images)\n",
        "        d_loss_real = criterion(real_output, real_labels)\n",
        "        d_loss_real.backward()\n",
        "\n",
        "        # Generate fake images\n",
        "        z = torch.randn(batch_size, latent_dim)  # Do not reshape z here\n",
        "        fake_images = generator(z)\n",
        "\n",
        "        # Train Discriminator with fake images\n",
        "        fake_output = discriminator(fake_images.detach())\n",
        "        d_loss_fake = criterion(fake_output, fake_labels)\n",
        "        d_loss_fake.backward()\n",
        "        optimizer_d.step()\n",
        "\n",
        "        # Train Generator\n",
        "        generator.zero_grad()\n",
        "        fake_output = discriminator(fake_images)\n",
        "        g_loss = criterion(fake_output, real_labels)\n",
        "        g_loss.backward()\n",
        "        optimizer_g.step()\n",
        "\n",
        "        if i % 100 == 0:\n",
        "            print(\n",
        "                f\"Epoch [{epoch}/{num_epochs}], Step [{i}/{len(train_loader)}], \"\n",
        "                f\"Discriminator Loss: {(d_loss_real + d_loss_fake).item():.4f}, \"\n",
        "                f\"Generator Loss: {g_loss.item():.4f}\"\n",
        "            )\n",
        "\n",
        "# Save the trained models\n",
        "torch.save(generator.state_dict(), 'generator.pth')\n",
        "torch.save(discriminator.state_dict(), 'discriminator.pth')\n"
      ]
    },
    {
      "cell_type": "markdown",
      "metadata": {
        "id": "yUpVr9nOaAlG"
      },
      "source": [
        "# Display images (2 marks)"
      ]
    },
    {
      "cell_type": "markdown",
      "metadata": {},
      "source": [
        "Just display an image here using your generator model"
      ]
    },
    {
      "cell_type": "code",
      "execution_count": 436,
      "metadata": {
        "colab": {
          "base_uri": "https://localhost:8080/",
          "height": 430
        },
        "id": "ItnvNrYGXVDp",
        "outputId": "a76bdf1d-72c8-4a41-cfb2-fd54af49241f"
      },
      "outputs": [
        {
          "data": {
            "image/png": "[encoded data removed]",
            "text/plain": [
              "<Figure size 640x480 with 1 Axes>"
            ]
          },
          "metadata": {},
          "output_type": "display_data"
        }
      ],
      "source": [
        "# Load the trained generator model\n",
        "# generator = Generator(latent_dim, img_shape)\n",
        "# generator.load_state_dict(torch.load('generator.pth'))\n",
        "# generator.eval()  # Set the model to evaluation mode\n",
        "\n",
        "generator = Generator(latent_dim)  # Only pass the latent_dim parameter\n",
        "generator.load_state_dict(torch.load('generator.pth'))\n",
        "generator.eval()\n",
        "# Generate a random noise vector\n",
        "z = torch.randn(1, latent_dim)\n",
        "\n",
        "# Generate an image using the generator\n",
        "with torch.no_grad():\n",
        "    generated_image = generator(z).view(28, 28)  # Assuming MNIST image size\n",
        "\n",
        "# Convert the generated image tensor to a numpy array\n",
        "generated_image = generated_image.numpy()\n",
        "\n",
        "# Display the generated image\n",
        "plt.imshow(generated_image, cmap='gray')\n",
        "plt.axis('off')\n",
        "plt.show()"
      ]
    },
    {
      "cell_type": "markdown",
      "metadata": {
        "id": "Eh86GuU9aAlH"
      },
      "source": [
        "# Setting up latent space interpolation  \n"
      ]
    },
    {
      "cell_type": "markdown",
      "metadata": {},
      "source": [
        "Alright then, now that we are done with generating images, next lets take a look at the models latent space. \n",
        "\n",
        "What is it, and how do we use it?\n",
        "\n",
        "The latent space is the space of all possible inputs that the generator can take, and it is a vector space, and since it is a vector space we can do some vector operations on it, such as interpolation, which is what we will be doing here.\n",
        "\n",
        "To read up more on this, you can visit the following link: https://machinelearningmastery.com/how-to-interpolate-and-perform-vector-arithmetic-with-faces-using-a-generative-adversarial-network/ this is a pretty good article on the topic, which also talks about an implementation of this, we will be doing something similar here."
      ]
    },
    {
      "cell_type": "markdown",
      "metadata": {},
      "source": [
        "So what you have to do here is generate two images of random numbers, once you have done this you have to interpolate between them, and display the images at each step of the interpolation."
      ]
    },
    {
      "cell_type": "markdown",
      "metadata": {
        "id": "OT8B9FujaAlH"
      },
      "source": [
        "# Latent space time (5 marks)\n"
      ]
    },
    {
      "cell_type": "markdown",
      "metadata": {},
      "source": [
        "Now that we have the images, lets interpolate between them, So what you have to do here is generate two images of random numbers, once you have done this you have to interpolate between them, and display the images at each step of the interpolation, the result here should be a series of images that show how the generator is transitioning from one image to another, how it goes from an image of 3 it generated to an image of 7 for example.\n",
        "\n",
        "Please make sure that there are atleast 10 steps including, the final and starting images."
      ]
    },
    {
      "cell_type": "code",
      "execution_count": 97,
      "metadata": {
        "colab": {
          "base_uri": "https://localhost:8080/",
          "height": 356
        },
        "id": "zawJThnfaAlH",
        "outputId": "9795a9c2-7565-4345-9606-2c6823052582"
      },
      "outputs": [
        {
          "data": {
            "image/png": "[encoded data removed]",
            "text/plain": [
              "<Figure size 1500x1500 with 10 Axes>"
            ]
          },
          "metadata": {},
          "output_type": "display_data"
        }
      ],
      "source": [
        "def interpolate_points(p1, p2, n_steps=10):\n",
        "    # interpolate ratios between the points\n",
        "    ratios = torch.linspace(0, 1, steps=n_steps).unsqueeze(1)  # Add an extra dimension for broadcasting\n",
        "    # linear interpolate vectors\n",
        "    vectors = (1.0 - ratios) * p1 + ratios * p2\n",
        "    return vectors\n",
        "\n",
        "\n",
        "# Generate two random points in the latent space\n",
        "point1 = torch.randn(1, latent_dim)\n",
        "point2 = torch.randn(1, latent_dim)\n",
        "\n",
        "# Interpolate between them\n",
        "interpolated_points = interpolate_points(point1, point2)\n",
        "\n",
        "# Use the generator to create images from these interpolated points\n",
        "with torch.no_grad():\n",
        "    interpolated_images = generator(interpolated_points).view(-1, 28, 28).cpu().numpy()\n",
        "\n",
        "# Display the images\n",
        "fig, axs = plt.subplots(1, interpolated_images.shape[0], figsize=(15, 15))\n",
        "for i, img in enumerate(interpolated_images):\n",
        "    axs[i].imshow(img, cmap='gray')\n",
        "    axs[i].axis('off')\n",
        "plt.show()"
      ]
    },
    {
      "cell_type": "markdown",
      "metadata": {},
      "source": [
        "# Vector arithmatic in the latent space (5 marks)"
      ]
    },
    {
      "cell_type": "markdown",
      "metadata": {},
      "source": [
        "Ok, so if you were able to do that last part, one thing you may have noticed is that, in certain cases  when transitioning between one number and another, the image takes the form of some completely different number, for example, when transitioning from a 3 to a 6, the image may look like a 5 at some point, before going to a 6."
      ]
    },
    {
      "cell_type": "markdown",
      "metadata": {},
      "source": [
        "When we interpolate in this latent space, we're essentially taking a path from the representation of one digit to another. However, because this space is learned from the data and is designed to capture the underlying variations within it, the path between any two points can pass through regions that represent a mix of features from both endpoints. \n",
        "\n",
        "This is equivalent to doing arithmetic in the latent space, and it's a powerful tool for manipulating the representations of the data. For example, if we take the representation of the number 1 and add the representation of the number 0, we can obtain a new representation that captures the shared features of both numbers. something that resembles the circular shape of the 0, but also the vertical line segment of the one so a 9."
      ]
    },
    {
      "cell_type": "markdown",
      "metadata": {},
      "source": [
        "That is exactly what you have to do, this is what you have to do:\n",
        "\n",
        "1. Generate 2 images\n",
        "2. Perform additon on the latent space vectors of the images \n",
        "3. Display the results.\n",
        "\n",
        "do this with atleast 3 different pairs of images."
      ]
    },
    {
      "cell_type": "markdown",
      "metadata": {},
      "source": [
        "\n"
      ]
    },
    {
      "cell_type": "code",
      "execution_count": 439,
      "metadata": {},
      "outputs": [
        {
          "data": {
            "image/png": "[encoded data removed]",
            "text/plain": [
              "<Figure size 1000x500 with 2 Axes>"
            ]
          },
          "metadata": {},
          "output_type": "display_data"
        },
        {
          "data": {
            "text/plain": [
              "(-0.5, 27.5, 27.5, -0.5)"
            ]
          },
          "execution_count": 439,
          "metadata": {},
          "output_type": "execute_result"
        },
        {
          "data": {
            "image/png": "[encoded data removed]",
            "text/plain": [
              "<Figure size 640x480 with 1 Axes>"
            ]
          },
          "metadata": {},
          "output_type": "display_data"
        }
      ],
      "source": [
        "# display two random images from the generator, then dispaly there additon.\n",
        "\n",
        "# Set the dimensionality of the latent space\n",
        "latent_dim = 100\n",
        "\n",
        "# Generate two random latent vectors\n",
        "z1 = torch.randn(1, latent_dim)\n",
        "z2 = torch.randn(1, latent_dim)\n",
        "\n",
        "# Generate images from these latent vectors\n",
        "with torch.no_grad():\n",
        "    img1 = generator(z1).view(28, 28).cpu().numpy()\n",
        "    img2 = generator(z2).view(28, 28).cpu().numpy()\n",
        "\n",
        "# Display the two original images\n",
        "fig, ax = plt.subplots(1, 2, figsize=(10, 5))\n",
        "ax[0].imshow(img1, cmap='gray')\n",
        "ax[0].set_title('Image 1')\n",
        "ax[0].axis('off')\n",
        "ax[1].imshow(img2, cmap='gray')\n",
        "ax[1].set_title('Image 2')\n",
        "ax[1].axis('off')\n",
        "plt.show()\n",
        "\n",
        "# Perform \"addition\" in the latent space by averaging the two latent vectors\n",
        "z_new = (z1 + z2) / 2\n",
        "\n",
        "# Generate a new image from the combined latent vector\n",
        "with torch.no_grad():\n",
        "    new_img = generator(z_new).view(28, 28).cpu().numpy()\n",
        "\n",
        "# Display the resulting image\n",
        "plt.imshow(new_img, cmap='gray')\n",
        "plt.title('Resulting Image')\n",
        "plt.axis('off')"
      ]
    },
    {
      "cell_type": "code",
      "execution_count": 441,
      "metadata": {},
      "outputs": [
        {
          "data": {
            "image/png": "[encoded data removed]",
            "text/plain": [
              "<Figure size 1000x500 with 2 Axes>"
            ]
          },
          "metadata": {},
          "output_type": "display_data"
        },
        {
          "data": {
            "text/plain": [
              "(-0.5, 27.5, 27.5, -0.5)"
            ]
          },
          "execution_count": 441,
          "metadata": {},
          "output_type": "execute_result"
        },
        {
          "data": {
            "image/png": "[encoded data removed]",
            "text/plain": [
              "<Figure size 640x480 with 1 Axes>"
            ]
          },
          "metadata": {},
          "output_type": "display_data"
        }
      ],
      "source": [
        "# display two random images from the generator, then dispaly there additon.\n",
        "# display two random images from the generator, then dispaly there additon.\n",
        "\n",
        "# Set the dimensionality of the latent space\n",
        "latent_dim = 100\n",
        "\n",
        "# Generate two random latent vectors\n",
        "z1 = torch.randn(1, latent_dim)\n",
        "z2 = torch.randn(1, latent_dim)\n",
        "\n",
        "# Generate images from these latent vectors\n",
        "with torch.no_grad():\n",
        "    img1 = generator(z1).view(28, 28).cpu().numpy()\n",
        "    img2 = generator(z2).view(28, 28).cpu().numpy()\n",
        "\n",
        "# Display the two original images\n",
        "fig, ax = plt.subplots(1, 2, figsize=(10, 5))\n",
        "ax[0].imshow(img1, cmap='gray')\n",
        "ax[0].set_title('Image 1')\n",
        "ax[0].axis('off')\n",
        "ax[1].imshow(img2, cmap='gray')\n",
        "ax[1].set_title('Image 2')\n",
        "ax[1].axis('off')\n",
        "plt.show()\n",
        "\n",
        "# Perform \"addition\" in the latent space by averaging the two latent vectors\n",
        "z_new = (z1 + z2) / 2\n",
        "\n",
        "# Generate a new image from the combined latent vector\n",
        "with torch.no_grad():\n",
        "    new_img = generator(z_new).view(28, 28).cpu().numpy()\n",
        "\n",
        "# Display the resulting image\n",
        "plt.imshow(new_img, cmap='gray')\n",
        "plt.title('Resulting Image')\n",
        "plt.axis('off')"
      ]
    },
    {
      "cell_type": "markdown",
      "metadata": {},
      "source": [
        "# Some Analytical questions (5)"
      ]
    },
    {
      "cell_type": "markdown",
      "metadata": {},
      "source": [
        "Q1) What would happen if you were to reduce the size of the dataset to 1/2 the number of images, and then train the GAN, how would the results differ, and why? Please do the following:\n",
        "\n",
        "1. Train the GAN with the 1/2 the dataset\n",
        "2. Generate images using this newly trained model\n",
        "3. Along with a couple of images give reasoning for the results, as well as a description of the results."
      ]
    },
    {
      "cell_type": "markdown",
      "metadata": {},
      "source": [
        "Ans here:\n",
        "Limited Diversity: With only half the dataset, the diversity of training examples is reduced. This might lead to a generator that is less capable of producing a wide variety of images. The generated digits might be less varied, or the GAN might learn to replicate a smaller subset of the MNIST digits well, but struggle with less common variations.\n",
        "\n",
        "Overfitting Risk: The discriminator might become too good at distinguishing real from fake images due to the limited variety, leading to overfitting. This can result in the generator finding it harder to improve, as the discriminator's feedback becomes less meaningful.\n",
        "\n",
        "Training Stability: With fewer data, the discriminator might learn too quickly compared to the generator, leading to potential training instability. This imbalance might need to be addressed through changes in the training regime, such as altering the learning rates, the ratio of discriminator to generator updates, or employing techniques like label smoothing.\n",
        "\n",
        "Quality of Generated Images: The quality of the generated images might degrade due to the reasons mentioned above. The images might display less variety, contain more artifacts, or even fail to capture the complexity of some digits."
      ]
    },
    {
      "cell_type": "markdown",
      "metadata": {},
      "source": [
        "Q2) What would happen if you were to change the loss function of the GAN, how would the results differ, and why? Please do the following:\n",
        "\n",
        "1. Train the GAN with a different loss function, this could be any other loss function, it could be any of your choosing.\n",
        "2. Generate images using this newly trained model.\n",
        "3. Along with a couple of images give reasoning for the results, as well as a description of the results."
      ]
    },
    {
      "cell_type": "markdown",
      "metadata": {},
      "source": [
        "Ans here:\n",
        "Different Convergence Properties: Different loss functions can have different convergence properties, affecting how quickly and stably the GAN trains. For instance, Wasserstein loss with gradient penalty (WGAN-GP) tends to offer more stable training compared to the traditional binary cross-entropy loss.\n",
        "\n",
        "Mode Collapse: Some loss functions might be more prone to mode collapse, where the generator learns to produce a limited range of outputs. This is often a concern with GANs, and the choice of loss function can exacerbate or mitigate this issue.\n",
        "\n",
        "Quality and Diversity of Images: The choice of loss function can influence the balance between the fidelity and diversity of the generated images. For example, a loss function that penalizes the generator more harshly for producing obviously fake images might lead to high-quality but less diverse outputs."
      ]
    }
  ],
  "metadata": {
    "colab": {
      "provenance": []
    },
    "kernelspec": {
      "display_name": "Python 3",
      "name": "python3"
    },
    "language_info": {
      "codemirror_mode": {
        "name": "ipython",
        "version": 3
      },
      "file_extension": ".py",
      "mimetype": "text/x-python",
      "name": "python",
      "nbconvert_exporter": "python",
      "pygments_lexer": "ipython3",
      "version": "3.9.6"
    },
    "widgets": {
      "application/vnd.jupyter.widget-state+json": {
        "60bf3201337146fa80d609acf489e46a": {
          "model_module": "@jupyter-widgets/base",
          "model_module_version": "1.2.0",
          "model_name": "LayoutModel",
          "state": {
            "_model_module": "@jupyter-widgets/base",
            "_model_module_version": "1.2.0",
            "_model_name": "LayoutModel",
            "_view_count": null,
            "_view_module": "@jupyter-widgets/base",
            "_view_module_version": "1.2.0",
            "_view_name": "LayoutView",
            "align_content": null,
            "align_items": null,
            "align_self": null,
            "border": null,
            "bottom": null,
            "display": null,
            "flex": null,
            "flex_flow": null,
            "grid_area": null,
            "grid_auto_columns": null,
            "grid_auto_flow": null,
            "grid_auto_rows": null,
            "grid_column": null,
            "grid_gap": null,
            "grid_row": null,
            "grid_template_areas": null,
            "grid_template_columns": null,
            "grid_template_rows": null,
            "height": null,
            "justify_content": null,
            "justify_items": null,
            "left": null,
            "margin": null,
            "max_height": null,
            "max_width": null,
            "min_height": null,
            "min_width": null,
            "object_fit": null,
            "object_position": null,
            "order": null,
            "overflow": null,
            "overflow_x": null,
            "overflow_y": null,
            "padding": null,
            "right": null,
            "top": null,
            "visibility": null,
            "width": null
          }
        },
        "6fd93097f2df41f291c594ef6e0daf78": {
          "model_module": "@jupyter-widgets/controls",
          "model_module_version": "1.5.0",
          "model_name": "IntSliderModel",
          "state": {
            "_dom_classes": [],
            "_model_module": "@jupyter-widgets/controls",
            "_model_module_version": "1.5.0",
            "_model_name": "IntSliderModel",
            "_view_count": null,
            "_view_module": "@jupyter-widgets/controls",
            "_view_module_version": "1.5.0",
            "_view_name": "IntSliderView",
            "continuous_update": true,
            "description": "step",
            "description_tooltip": null,
            "disabled": false,
            "layout": "IPY_MODEL_60bf3201337146fa80d609acf489e46a",
            "max": 9,
            "min": 0,
            "orientation": "horizontal",
            "readout": true,
            "readout_format": "d",
            "step": 1,
            "style": "IPY_MODEL_80b0792974074b8298938c4c2a16f45e",
            "value": 0
          }
        },
        "80b0792974074b8298938c4c2a16f45e": {
          "model_module": "@jupyter-widgets/controls",
          "model_module_version": "1.5.0",
          "model_name": "SliderStyleModel",
          "state": {
            "_model_module": "@jupyter-widgets/controls",
            "_model_module_version": "1.5.0",
            "_model_name": "SliderStyleModel",
            "_view_count": null,
            "_view_module": "@jupyter-widgets/base",
            "_view_module_version": "1.2.0",
            "_view_name": "StyleView",
            "description_width": "",
            "handle_color": null
          }
        },
        "8babc5f63cea48caa809b10bae10ec76": {
          "model_module": "@jupyter-widgets/base",
          "model_module_version": "1.2.0",
          "model_name": "LayoutModel",
          "state": {
            "_model_module": "@jupyter-widgets/base",
            "_model_module_version": "1.2.0",
            "_model_name": "LayoutModel",
            "_view_count": null,
            "_view_module": "@jupyter-widgets/base",
            "_view_module_version": "1.2.0",
            "_view_name": "LayoutView",
            "align_content": null,
            "align_items": null,
            "align_self": null,
            "border": null,
            "bottom": null,
            "display": null,
            "flex": null,
            "flex_flow": null,
            "grid_area": null,
            "grid_auto_columns": null,
            "grid_auto_flow": null,
            "grid_auto_rows": null,
            "grid_column": null,
            "grid_gap": null,
            "grid_row": null,
            "grid_template_areas": null,
            "grid_template_columns": null,
            "grid_template_rows": null,
            "height": null,
            "justify_content": null,
            "justify_items": null,
            "left": null,
            "margin": null,
            "max_height": null,
            "max_width": null,
            "min_height": null,
            "min_width": null,
            "object_fit": null,
            "object_position": null,
            "order": null,
            "overflow": null,
            "overflow_x": null,
            "overflow_y": null,
            "padding": null,
            "right": null,
            "top": null,
            "visibility": null,
            "width": null
          }
        },
        "9aa94fcb58b64e7cb0de8815a42302e4": {
          "model_module": "@jupyter-widgets/controls",
          "model_module_version": "1.5.0",
          "model_name": "VBoxModel",
          "state": {
            "_dom_classes": [
              "widget-interact"
            ],
            "_model_module": "@jupyter-widgets/controls",
            "_model_module_version": "1.5.0",
            "_model_name": "VBoxModel",
            "_view_count": null,
            "_view_module": "@jupyter-widgets/controls",
            "_view_module_version": "1.5.0",
            "_view_name": "VBoxView",
            "box_style": "",
            "children": [
              "IPY_MODEL_6fd93097f2df41f291c594ef6e0daf78",
              "IPY_MODEL_c00ccb2193974e11bfce3b0686ab9a29"
            ],
            "layout": "IPY_MODEL_d9e515badd1d4107a6d039d04a9388f5"
          }
        },
        "c00ccb2193974e11bfce3b0686ab9a29": {
          "model_module": "@jupyter-widgets/output",
          "model_module_version": "1.0.0",
          "model_name": "OutputModel",
          "state": {
            "_dom_classes": [],
            "_model_module": "@jupyter-widgets/output",
            "_model_module_version": "1.0.0",
            "_model_name": "OutputModel",
            "_view_count": null,
            "_view_module": "@jupyter-widgets/output",
            "_view_module_version": "1.0.0",
            "_view_name": "OutputView",
            "layout": "IPY_MODEL_8babc5f63cea48caa809b10bae10ec76",
            "msg_id": "",
            "outputs": [
              {
                "data": {
                  "image/png": "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\n",
                  "text/plain": "<Figure size 640x480 with 1 Axes>"
                },
                "metadata": {},
                "output_type": "display_data"
              }
            ]
          }
        },
        "d9e515badd1d4107a6d039d04a9388f5": {
          "model_module": "@jupyter-widgets/base",
          "model_module_version": "1.2.0",
          "model_name": "LayoutModel",
          "state": {
            "_model_module": "@jupyter-widgets/base",
            "_model_module_version": "1.2.0",
            "_model_name": "LayoutModel",
            "_view_count": null,
            "_view_module": "@jupyter-widgets/base",
            "_view_module_version": "1.2.0",
            "_view_name": "LayoutView",
            "align_content": null,
            "align_items": null,
            "align_self": null,
            "border": null,
            "bottom": null,
            "display": null,
            "flex": null,
            "flex_flow": null,
            "grid_area": null,
            "grid_auto_columns": null,
            "grid_auto_flow": null,
            "grid_auto_rows": null,
            "grid_column": null,
            "grid_gap": null,
            "grid_row": null,
            "grid_template_areas": null,
            "grid_template_columns": null,
            "grid_template_rows": null,
            "height": null,
            "justify_content": null,
            "justify_items": null,
            "left": null,
            "margin": null,
            "max_height": null,
            "max_width": null,
            "min_height": null,
            "min_width": null,
            "object_fit": null,
            "object_position": null,
            "order": null,
            "overflow": null,
            "overflow_x": null,
            "overflow_y": null,
            "padding": null,
            "right": null,
            "top": null,
            "visibility": null,
            "width": null
          }
        }
      }
    }
  },
  "nbformat": 4,
  "nbformat_minor": 0
}
